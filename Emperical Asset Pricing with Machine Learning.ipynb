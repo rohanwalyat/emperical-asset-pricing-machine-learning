{
 "cells": [
  {
   "cell_type": "code",
   "execution_count": 13,
   "metadata": {
    "id": "NcDhtxLCV8Tw",
    "tags": []
   },
   "outputs": [],
   "source": [
    "import pandas as pd\n",
    "import numpy as np\n",
    "import tensorflow as tf\n",
    "from tensorflow.keras.models import Sequential\n",
    "from tensorflow.keras.layers import Dense, Activation, LayerNormalization, BatchNormalization\n",
    "from tensorflow.keras.optimizers import Adam\n",
    "from tensorflow.keras.callbacks import EarlyStopping\n",
    "from numpy.random import seed"
   ]
  },
  {
   "cell_type": "code",
   "execution_count": 3,
   "metadata": {
    "colab": {
     "base_uri": "https://localhost:8080/",
     "height": 426
    },
    "id": "vI12F-E9V8T1",
    "outputId": "869138a1-ef3d-4c37-86c8-e408129de90a",
    "tags": []
   },
   "outputs": [],
   "source": [
    "Z_eff = pd.read_csv('csv/data_Z_eff.csv',header=None)\n",
    "R_eff = pd.read_csv('csv/data_R_eff.csv',header = None)\n",
    "R_org_eff = pd.read_csv('csv/data_R_org_eff.csv',header = None)\n",
    "group_ind = pd.read_csv('csv/data_group_ind.csv',header =None)"
   ]
  },
  {
   "cell_type": "code",
   "execution_count": 4,
   "outputs": [
    {
     "data": {
      "text/plain": "(2219316, 64)"
     },
     "execution_count": 4,
     "metadata": {},
     "output_type": "execute_result"
    }
   ],
   "source": [
    "Z_eff.shape"
   ],
   "metadata": {
    "collapsed": false
   }
  },
  {
   "cell_type": "code",
   "execution_count": 5,
   "outputs": [
    {
     "data": {
      "text/plain": "(2219316, 1)"
     },
     "execution_count": 5,
     "metadata": {},
     "output_type": "execute_result"
    }
   ],
   "source": [
    "R_eff.shape"
   ],
   "metadata": {
    "collapsed": false
   }
  },
  {
   "cell_type": "code",
   "execution_count": 6,
   "outputs": [
    {
     "data": {
      "text/plain": "(2219316, 1)"
     },
     "execution_count": 6,
     "metadata": {},
     "output_type": "execute_result"
    }
   ],
   "source": [
    "R_org_eff.shape"
   ],
   "metadata": {
    "collapsed": false
   }
  },
  {
   "cell_type": "code",
   "execution_count": 7,
   "outputs": [
    {
     "data": {
      "text/plain": "(691, 1)"
     },
     "execution_count": 7,
     "metadata": {},
     "output_type": "execute_result"
    }
   ],
   "source": [
    "group_ind.shape"
   ],
   "metadata": {
    "collapsed": false
   }
  },
  {
   "cell_type": "code",
   "execution_count": 8,
   "metadata": {
    "id": "Psf8guRAV8T1",
    "tags": []
   },
   "outputs": [],
   "source": [
    "# making list of indexes for each dataset\n",
    "\n",
    "t_train_start = list(range(0,41*12+1,12))\n",
    "t_train_end =[x+120 for x in t_train_start]\n",
    "t_val_start= [x for x in t_train_end]\n",
    "t_val_end = [x+60 for x in t_val_start]\n",
    "t_test_start = [x for x in t_val_end]\n",
    "t_test_end = [x+12 for x in t_test_start]\n",
    "t_test_end[41] = 678"
   ]
  },
  {
   "cell_type": "code",
   "execution_count": 9,
   "metadata": {
    "id": "IaLdT9DqV8T2",
    "tags": []
   },
   "outputs": [],
   "source": [
    "# splitting the dataset by indexes\n",
    "\n",
    "train_start = group_ind.iloc[t_train_start][0].to_list()\n",
    "train_end = group_ind.iloc[t_train_end][0].to_list()\n",
    "test_start = group_ind.iloc[t_test_start][0].to_list()\n",
    "test_end = group_ind.iloc[t_test_end][0].to_list()\n",
    "val_start = group_ind.iloc[t_val_start][0].to_list()\n",
    "val_end = group_ind.iloc[t_val_end][0].to_list()"
   ]
  },
  {
   "cell_type": "code",
   "execution_count": 10,
   "metadata": {},
   "outputs": [],
   "source": [
    "def portf_ret(preds, y_org):\n",
    "    list_buy = [idx for idx, val in preds if val > np.percentile(preds,90)]\n",
    "    list_buy = [idx for idx, val in preds if val < np.percentile(preds,10)]\n",
    "    portf_ret_t = np.mean(y_true_t[list_buy]) - np.mean(y_true_t[list_sell])\n",
    "    return portf_ret_t"
   ]
  },
  {
   "cell_type": "code",
   "execution_count": 11,
   "metadata": {},
   "outputs": [],
   "source": [
    "y_pred = []\n",
    "y_pred_val = []\n",
    "y_pred_test = []\n",
    "loss = []\n",
    "model_list = []\n",
    "y_org = []\n",
    "y_org_val = []\n",
    "y_org_test = []\n",
    "y_reff = []\n",
    "y_reff_val = []\n",
    "y_reff_test = []\n",
    "portf_ret_nn_test = []\n",
    "R_pred = R_org_eff\n",
    "seed(1)"
   ]
  },
  {
   "cell_type": "code",
   "execution_count": 14,
   "metadata": {
    "tags": []
   },
   "outputs": [
    {
     "name": "stdout",
     "output_type": "stream",
     "text": [
      "Epoch 1/50\n"
     ]
    },
    {
     "name": "stderr",
     "output_type": "stream",
     "text": [
      "2023-02-11 09:35:27.262213: W tensorflow/core/platform/profile_utils/cpu_utils.cc:128] Failed to get CPU frequency: 0 Hz\n",
      "2023-02-11 09:35:27.892419: I tensorflow/core/grappler/optimizers/custom_graph_optimizer_registry.cc:113] Plugin optimizer for device_type GPU is enabled.\n"
     ]
    },
    {
     "name": "stdout",
     "output_type": "stream",
     "text": [
      "1606/1606 [==============================] - ETA: 0s - loss: 0.0238"
     ]
    },
    {
     "name": "stderr",
     "output_type": "stream",
     "text": [
      "2023-02-11 09:35:45.017377: I tensorflow/core/grappler/optimizers/custom_graph_optimizer_registry.cc:113] Plugin optimizer for device_type GPU is enabled.\n"
     ]
    },
    {
     "name": "stdout",
     "output_type": "stream",
     "text": [
      "1606/1606 [==============================] - 22s 13ms/step - loss: 0.0238 - val_loss: 0.0109\n",
      "Epoch 2/50\n",
      "1606/1606 [==============================] - 20s 12ms/step - loss: 0.0092 - val_loss: 0.0102\n",
      "Epoch 3/50\n",
      "1606/1606 [==============================] - 20s 12ms/step - loss: 0.0089 - val_loss: 0.0104\n",
      "Epoch 4/50\n",
      "1606/1606 [==============================] - 20s 12ms/step - loss: 0.0088 - val_loss: 0.0098\n",
      "Epoch 5/50\n",
      "1606/1606 [==============================] - 20s 12ms/step - loss: 0.0087 - val_loss: 0.0103\n",
      "Epoch 6/50\n",
      "1606/1606 [==============================] - 20s 12ms/step - loss: 0.0087 - val_loss: 0.0103\n",
      "Epoch 7/50\n",
      "1606/1606 [==============================] - 20s 13ms/step - loss: 0.0086 - val_loss: 0.0103\n",
      "Epoch 7: early stopping\n",
      "  39/1143 [>.............................] - ETA: 2s"
     ]
    },
    {
     "name": "stderr",
     "output_type": "stream",
     "text": [
      "2023-02-11 09:37:49.351132: I tensorflow/core/grappler/optimizers/custom_graph_optimizer_registry.cc:113] Plugin optimizer for device_type GPU is enabled.\n"
     ]
    },
    {
     "name": "stdout",
     "output_type": "stream",
     "text": [
      "1143/1143 [==============================] - 27s 23ms/step\n",
      "180 0 3098 3098 310 310\n",
      "181 3098 6277 3179 318 318\n",
      "182 6277 9463 3186 319 319\n",
      "183 9463 12393 2930 293 293\n",
      "184 12393 15350 2957 296 296\n",
      "185 15350 18302 2952 296 296\n",
      "186 18302 21339 3037 304 304\n",
      "187 21339 24325 2986 299 299\n",
      "188 24325 27362 3037 304 304\n",
      "189 27362 30431 3069 307 307\n",
      "190 30431 33491 3060 306 306\n",
      "191 33491 36565 3074 308 308\n",
      "Epoch 1/50\n"
     ]
    },
    {
     "name": "stderr",
     "output_type": "stream",
     "text": [
      "2023-02-11 09:41:12.304370: I tensorflow/core/grappler/optimizers/custom_graph_optimizer_registry.cc:113] Plugin optimizer for device_type GPU is enabled.\n"
     ]
    },
    {
     "name": "stdout",
     "output_type": "stream",
     "text": [
      "1752/1752 [==============================] - ETA: 0s - loss: 0.0198"
     ]
    },
    {
     "name": "stderr",
     "output_type": "stream",
     "text": [
      "2023-02-11 09:57:49.155562: I tensorflow/core/grappler/optimizers/custom_graph_optimizer_registry.cc:113] Plugin optimizer for device_type GPU is enabled.\n"
     ]
    },
    {
     "name": "stdout",
     "output_type": "stream",
     "text": [
      "1752/1752 [==============================] - 1001s 571ms/step - loss: 0.0198 - val_loss: 0.0103\n",
      "Epoch 2/50\n",
      "1752/1752 [==============================] - 980s 559ms/step - loss: 0.0094 - val_loss: 0.0099\n",
      "Epoch 3/50\n",
      "1752/1752 [==============================] - 4048s 2s/step - loss: 0.0093 - val_loss: 0.0106\n",
      "Epoch 4/50\n",
      "1752/1752 [==============================] - 2267s 1s/step - loss: 0.0092 - val_loss: 0.0100\n",
      "Epoch 5/50\n",
      "1752/1752 [==============================] - 2870s 2s/step - loss: 0.0092 - val_loss: 0.0098\n",
      "Epoch 6/50\n",
      "1752/1752 [==============================] - 3950s 2s/step - loss: 0.0092 - val_loss: 0.0101\n",
      "Epoch 7/50\n",
      "1752/1752 [==============================] - 1524s 870ms/step - loss: 0.0091 - val_loss: 0.0102\n",
      "Epoch 8/50\n",
      "1752/1752 [==============================] - 22s 13ms/step - loss: 0.0091 - val_loss: 0.0102\n",
      "Epoch 8: early stopping\n",
      "  14/1150 [..............................] - ETA: 4s  "
     ]
    },
    {
     "name": "stderr",
     "output_type": "stream",
     "text": [
      "2023-02-11 14:18:54.052124: I tensorflow/core/grappler/optimizers/custom_graph_optimizer_registry.cc:113] Plugin optimizer for device_type GPU is enabled.\n"
     ]
    },
    {
     "name": "stdout",
     "output_type": "stream",
     "text": [
      "1150/1150 [==============================] - 3s 2ms/step\n",
      "192 0 3074 3074 308 308\n",
      "193 3074 6202 3128 313 313\n",
      "194 6202 9315 3113 312 312\n",
      "195 9315 12316 3001 300 300\n",
      "196 12316 15346 3030 303 303\n",
      "197 15346 18438 3092 310 310\n",
      "198 18438 21610 3172 318 318\n",
      "199 21610 24772 3162 317 317\n",
      "200 24772 27728 2956 296 296\n",
      "201 27728 30701 2973 298 298\n",
      "202 30701 33730 3029 303 303\n",
      "203 33730 36797 3067 307 307\n",
      "Epoch 1/50\n"
     ]
    },
    {
     "name": "stderr",
     "output_type": "stream",
     "text": [
      "2023-02-11 14:19:02.468849: I tensorflow/core/grappler/optimizers/custom_graph_optimizer_registry.cc:113] Plugin optimizer for device_type GPU is enabled.\n"
     ]
    },
    {
     "name": "stdout",
     "output_type": "stream",
     "text": [
      "1852/1852 [==============================] - ETA: 0s - loss: 0.0213"
     ]
    },
    {
     "name": "stderr",
     "output_type": "stream",
     "text": [
      "2023-02-11 14:19:21.791093: I tensorflow/core/grappler/optimizers/custom_graph_optimizer_registry.cc:113] Plugin optimizer for device_type GPU is enabled.\n"
     ]
    },
    {
     "name": "stdout",
     "output_type": "stream",
     "text": [
      "1852/1852 [==============================] - 24s 13ms/step - loss: 0.0213 - val_loss: 0.0098\n",
      "Epoch 2/50\n",
      "1852/1852 [==============================] - 23s 12ms/step - loss: 0.0101 - val_loss: 0.0098\n",
      "Epoch 3/50\n",
      "1852/1852 [==============================] - 23s 12ms/step - loss: 0.0100 - val_loss: 0.0092\n",
      "Epoch 4/50\n",
      "1852/1852 [==============================] - 23s 12ms/step - loss: 0.0099 - val_loss: 0.0090\n",
      "Epoch 5/50\n",
      "1852/1852 [==============================] - 24s 13ms/step - loss: 0.0098 - val_loss: 0.0094\n",
      "Epoch 6/50\n",
      "1852/1852 [==============================] - 23s 12ms/step - loss: 0.0098 - val_loss: 0.0089\n",
      "Epoch 7/50\n",
      "1852/1852 [==============================] - 22s 12ms/step - loss: 0.0097 - val_loss: 0.0093\n",
      "Epoch 8/50\n",
      "1852/1852 [==============================] - 22s 12ms/step - loss: 0.0097 - val_loss: 0.0091\n",
      "Epoch 9/50\n",
      "1852/1852 [==============================] - 23s 12ms/step - loss: 0.0096 - val_loss: 0.0095\n",
      "Epoch 9: early stopping\n",
      "  28/1251 [..............................] - ETA: 4s"
     ]
    },
    {
     "name": "stderr",
     "output_type": "stream",
     "text": [
      "2023-02-11 14:22:29.380948: I tensorflow/core/grappler/optimizers/custom_graph_optimizer_registry.cc:113] Plugin optimizer for device_type GPU is enabled.\n"
     ]
    },
    {
     "name": "stdout",
     "output_type": "stream",
     "text": [
      "1251/1251 [==============================] - 3s 3ms/step\n",
      "204 0 3149 3149 315 315\n",
      "205 3149 6364 3215 322 322\n",
      "206 6364 9630 3266 327 327\n",
      "207 9630 12932 3302 331 331\n",
      "208 12932 16281 3349 335 335\n",
      "209 16281 19615 3334 334 334\n",
      "210 19615 22955 3340 334 334\n",
      "211 22955 26276 3321 332 332\n",
      "212 26276 29662 3386 339 339\n",
      "213 29662 33100 3438 344 344\n",
      "214 33100 36567 3467 347 347\n",
      "215 36567 40027 3460 346 346\n",
      "Epoch 1/50\n"
     ]
    },
    {
     "name": "stderr",
     "output_type": "stream",
     "text": [
      "2023-02-11 14:22:39.059425: I tensorflow/core/grappler/optimizers/custom_graph_optimizer_registry.cc:113] Plugin optimizer for device_type GPU is enabled.\n"
     ]
    },
    {
     "name": "stdout",
     "output_type": "stream",
     "text": [
      "1971/1971 [==============================] - ETA: 0s - loss: 0.0207"
     ]
    },
    {
     "name": "stderr",
     "output_type": "stream",
     "text": [
      "2023-02-11 14:22:59.658243: I tensorflow/core/grappler/optimizers/custom_graph_optimizer_registry.cc:113] Plugin optimizer for device_type GPU is enabled.\n"
     ]
    },
    {
     "name": "stdout",
     "output_type": "stream",
     "text": [
      "1971/1971 [==============================] - 26s 13ms/step - loss: 0.0207 - val_loss: 0.0094\n",
      "Epoch 2/50\n",
      "1971/1971 [==============================] - 25s 13ms/step - loss: 0.0101 - val_loss: 0.0091\n",
      "Epoch 3/50\n",
      "1971/1971 [==============================] - 27s 14ms/step - loss: 0.0100 - val_loss: 0.0089\n",
      "Epoch 4/50\n",
      "1971/1971 [==============================] - 24s 12ms/step - loss: 0.0100 - val_loss: 0.0092\n",
      "Epoch 5/50\n",
      "1971/1971 [==============================] - 24s 12ms/step - loss: 0.0099 - val_loss: 0.0092\n",
      "Epoch 6/50\n",
      "1971/1971 [==============================] - 24s 12ms/step - loss: 0.0098 - val_loss: 0.0090\n",
      "Epoch 6: early stopping\n",
      "  11/1226 [..............................] - ETA: 6s  "
     ]
    },
    {
     "name": "stderr",
     "output_type": "stream",
     "text": [
      "2023-02-11 14:25:07.721681: I tensorflow/core/grappler/optimizers/custom_graph_optimizer_registry.cc:113] Plugin optimizer for device_type GPU is enabled.\n"
     ]
    },
    {
     "name": "stdout",
     "output_type": "stream",
     "text": [
      "1226/1226 [==============================] - 3s 3ms/step\n",
      "216 0 3449 3449 345 345\n",
      "217 3449 6813 3364 337 337\n",
      "218 6813 10043 3230 323 323\n",
      "219 10043 13353 3310 331 331\n",
      "220 13353 16679 3326 333 333\n",
      "221 16679 19974 3295 330 330\n",
      "222 19974 23254 3280 328 328\n",
      "223 23254 26479 3225 323 323\n",
      "224 26479 29666 3187 319 319\n",
      "225 29666 32887 3221 322 322\n",
      "226 32887 36085 3198 320 320\n",
      "227 36085 39214 3129 313 313\n",
      "Epoch 1/50\n"
     ]
    },
    {
     "name": "stderr",
     "output_type": "stream",
     "text": [
      "2023-02-11 14:25:17.195247: I tensorflow/core/grappler/optimizers/custom_graph_optimizer_registry.cc:113] Plugin optimizer for device_type GPU is enabled.\n"
     ]
    },
    {
     "name": "stdout",
     "output_type": "stream",
     "text": [
      "2096/2096 [==============================] - ETA: 0s - loss: 0.0201"
     ]
    },
    {
     "name": "stderr",
     "output_type": "stream",
     "text": [
      "2023-02-11 14:25:39.018411: I tensorflow/core/grappler/optimizers/custom_graph_optimizer_registry.cc:113] Plugin optimizer for device_type GPU is enabled.\n"
     ]
    },
    {
     "name": "stdout",
     "output_type": "stream",
     "text": [
      "2096/2096 [==============================] - 27s 12ms/step - loss: 0.0201 - val_loss: 0.0099\n",
      "Epoch 2/50\n",
      "2096/2096 [==============================] - 25s 12ms/step - loss: 0.0098 - val_loss: 0.0095\n",
      "Epoch 3/50\n",
      "2096/2096 [==============================] - 26s 12ms/step - loss: 0.0097 - val_loss: 0.0095\n",
      "Epoch 4/50\n",
      "2096/2096 [==============================] - 26s 12ms/step - loss: 0.0096 - val_loss: 0.0093\n",
      "Epoch 5/50\n",
      "2096/2096 [==============================] - 25s 12ms/step - loss: 0.0095 - val_loss: 0.0094\n",
      "Epoch 6/50\n",
      "2096/2096 [==============================] - 25s 12ms/step - loss: 0.0095 - val_loss: 0.0092\n",
      "Epoch 7/50\n",
      "2096/2096 [==============================] - 25s 12ms/step - loss: 0.0094 - val_loss: 0.0095\n",
      "Epoch 8/50\n",
      "2096/2096 [==============================] - 25s 12ms/step - loss: 0.0094 - val_loss: 0.0099\n",
      "Epoch 9/50\n",
      "2096/2096 [==============================] - 25s 12ms/step - loss: 0.0093 - val_loss: 0.0094\n",
      "Epoch 9: early stopping\n",
      "  10/1285 [..............................] - ETA: 7s  "
     ]
    },
    {
     "name": "stderr",
     "output_type": "stream",
     "text": [
      "2023-02-11 14:29:07.668530: I tensorflow/core/grappler/optimizers/custom_graph_optimizer_registry.cc:113] Plugin optimizer for device_type GPU is enabled.\n"
     ]
    },
    {
     "name": "stdout",
     "output_type": "stream",
     "text": [
      "1285/1285 [==============================] - 3s 2ms/step\n",
      "228 0 3101 3101 310 310\n",
      "229 3101 6228 3127 313 313\n",
      "230 6228 9362 3134 314 314\n",
      "231 9362 12604 3242 325 325\n",
      "232 12604 15947 3343 335 335\n",
      "233 15947 19322 3375 338 338\n",
      "234 19322 22772 3450 345 345\n",
      "235 22772 26292 3520 352 352\n",
      "236 26292 29864 3572 358 358\n",
      "237 29864 33507 3643 365 365\n",
      "238 33507 37261 3754 376 376\n",
      "239 37261 41112 3851 385 385\n",
      "Epoch 1/50\n"
     ]
    },
    {
     "name": "stderr",
     "output_type": "stream",
     "text": [
      "2023-02-11 14:29:17.555380: I tensorflow/core/grappler/optimizers/custom_graph_optimizer_registry.cc:113] Plugin optimizer for device_type GPU is enabled.\n"
     ]
    },
    {
     "name": "stdout",
     "output_type": "stream",
     "text": [
      "2217/2217 [==============================] - ETA: 0s - loss: 0.0194"
     ]
    },
    {
     "name": "stderr",
     "output_type": "stream",
     "text": [
      "2023-02-11 14:29:40.879957: I tensorflow/core/grappler/optimizers/custom_graph_optimizer_registry.cc:113] Plugin optimizer for device_type GPU is enabled.\n"
     ]
    },
    {
     "name": "stdout",
     "output_type": "stream",
     "text": [
      "2217/2217 [==============================] - 29s 12ms/step - loss: 0.0194 - val_loss: 0.0105\n",
      "Epoch 2/50\n",
      "2217/2217 [==============================] - 27s 12ms/step - loss: 0.0094 - val_loss: 0.0102\n",
      "Epoch 3/50\n",
      "2217/2217 [==============================] - 27s 12ms/step - loss: 0.0093 - val_loss: 0.0101\n",
      "Epoch 4/50\n",
      "2217/2217 [==============================] - 27s 12ms/step - loss: 0.0093 - val_loss: 0.0105\n",
      "Epoch 5/50\n",
      "2217/2217 [==============================] - 27s 12ms/step - loss: 0.0092 - val_loss: 0.0100\n",
      "Epoch 6/50\n",
      "2217/2217 [==============================] - 27s 12ms/step - loss: 0.0091 - val_loss: 0.0100\n",
      "Epoch 7/50\n",
      "2217/2217 [==============================] - 27s 12ms/step - loss: 0.0091 - val_loss: 0.0105\n",
      "Epoch 8/50\n",
      "2217/2217 [==============================] - 27s 12ms/step - loss: 0.0090 - val_loss: 0.0101\n",
      "Epoch 8: early stopping\n",
      "   9/1440 [..............................] - ETA: 9s  "
     ]
    },
    {
     "name": "stderr",
     "output_type": "stream",
     "text": [
      "2023-02-11 14:32:53.872356: I tensorflow/core/grappler/optimizers/custom_graph_optimizer_registry.cc:113] Plugin optimizer for device_type GPU is enabled.\n"
     ]
    },
    {
     "name": "stdout",
     "output_type": "stream",
     "text": [
      "1440/1440 [==============================] - 4s 3ms/step\n",
      "240 0 3869 3869 387 387\n",
      "241 3869 7736 3867 387 387\n",
      "242 7736 11604 3868 387 387\n",
      "243 11604 15431 3827 383 383\n",
      "244 15431 19314 3883 389 389\n",
      "245 19314 23215 3901 390 390\n",
      "246 23215 27142 3927 393 393\n",
      "247 27142 31000 3858 386 386\n",
      "248 31000 34857 3857 386 386\n",
      "249 34857 38645 3788 379 379\n",
      "250 38645 42361 3716 372 372\n",
      "251 42361 46079 3718 372 372\n",
      "Epoch 1/50\n"
     ]
    },
    {
     "name": "stderr",
     "output_type": "stream",
     "text": [
      "2023-02-11 14:33:05.083924: I tensorflow/core/grappler/optimizers/custom_graph_optimizer_registry.cc:113] Plugin optimizer for device_type GPU is enabled.\n"
     ]
    },
    {
     "name": "stdout",
     "output_type": "stream",
     "text": [
      "2334/2334 [==============================] - ETA: 0s - loss: 0.0197"
     ]
    },
    {
     "name": "stderr",
     "output_type": "stream",
     "text": [
      "2023-02-11 14:33:29.595853: I tensorflow/core/grappler/optimizers/custom_graph_optimizer_registry.cc:113] Plugin optimizer for device_type GPU is enabled.\n"
     ]
    },
    {
     "name": "stdout",
     "output_type": "stream",
     "text": [
      "2334/2334 [==============================] - 30s 12ms/step - loss: 0.0197 - val_loss: 0.0103\n",
      "Epoch 2/50\n",
      "2334/2334 [==============================] - 28s 12ms/step - loss: 0.0095 - val_loss: 0.0100\n",
      "Epoch 3/50\n",
      "2334/2334 [==============================] - 28s 12ms/step - loss: 0.0094 - val_loss: 0.0099\n",
      "Epoch 4/50\n",
      "2334/2334 [==============================] - 28s 12ms/step - loss: 0.0093 - val_loss: 0.0107\n",
      "Epoch 5/50\n",
      "2334/2334 [==============================] - 28s 12ms/step - loss: 0.0093 - val_loss: 0.0099\n",
      "Epoch 6/50\n",
      "2334/2334 [==============================] - 28s 12ms/step - loss: 0.0092 - val_loss: 0.0100\n",
      "Epoch 6: early stopping\n",
      "   6/1355 [..............................] - ETA: 16s "
     ]
    },
    {
     "name": "stderr",
     "output_type": "stream",
     "text": [
      "2023-02-11 14:35:53.822071: I tensorflow/core/grappler/optimizers/custom_graph_optimizer_registry.cc:113] Plugin optimizer for device_type GPU is enabled.\n"
     ]
    },
    {
     "name": "stdout",
     "output_type": "stream",
     "text": [
      "1355/1355 [==============================] - 3s 2ms/step\n",
      "252 0 3616 3616 362 362\n",
      "253 3616 7317 3701 370 370\n",
      "254 7317 10980 3663 367 367\n",
      "255 10980 14594 3614 362 362\n",
      "256 14594 18125 3531 353 353\n",
      "257 18125 21640 3515 352 352\n",
      "258 21640 25298 3658 366 366\n",
      "259 25298 28970 3672 368 368\n",
      "260 28970 32613 3643 365 365\n",
      "261 32613 36213 3600 360 360\n",
      "262 36213 39790 3577 358 358\n",
      "263 39790 43353 3563 357 357\n",
      "Epoch 1/50\n"
     ]
    },
    {
     "name": "stderr",
     "output_type": "stream",
     "text": [
      "2023-02-11 14:36:04.084092: I tensorflow/core/grappler/optimizers/custom_graph_optimizer_registry.cc:113] Plugin optimizer for device_type GPU is enabled.\n"
     ]
    },
    {
     "name": "stdout",
     "output_type": "stream",
     "text": [
      "2445/2445 [==============================] - ETA: 0s - loss: 0.0188"
     ]
    },
    {
     "name": "stderr",
     "output_type": "stream",
     "text": [
      "2023-02-11 14:36:29.980041: I tensorflow/core/grappler/optimizers/custom_graph_optimizer_registry.cc:113] Plugin optimizer for device_type GPU is enabled.\n"
     ]
    },
    {
     "name": "stdout",
     "output_type": "stream",
     "text": [
      "2445/2445 [==============================] - 31s 12ms/step - loss: 0.0188 - val_loss: 0.0099\n",
      "Epoch 2/50\n",
      "2445/2445 [==============================] - 30s 12ms/step - loss: 0.0095 - val_loss: 0.0096\n",
      "Epoch 3/50\n",
      "2445/2445 [==============================] - 28s 11ms/step - loss: 0.0094 - val_loss: 0.0096\n",
      "Epoch 4/50\n",
      "2445/2445 [==============================] - 28s 11ms/step - loss: 0.0093 - val_loss: 0.0099\n",
      "Epoch 5/50\n",
      "2445/2445 [==============================] - 28s 12ms/step - loss: 0.0092 - val_loss: 0.0094\n",
      "Epoch 6/50\n",
      "2445/2445 [==============================] - 28s 12ms/step - loss: 0.0092 - val_loss: 0.0099\n",
      "Epoch 7/50\n",
      "2445/2445 [==============================] - 29s 12ms/step - loss: 0.0091 - val_loss: 0.0095\n",
      "Epoch 8/50\n",
      "2445/2445 [==============================] - 28s 12ms/step - loss: 0.0091 - val_loss: 0.0099\n",
      "Epoch 8: early stopping\n",
      "   1/1379 [..............................] - ETA: 4:29"
     ]
    },
    {
     "name": "stderr",
     "output_type": "stream",
     "text": [
      "2023-02-11 14:39:54.966153: I tensorflow/core/grappler/optimizers/custom_graph_optimizer_registry.cc:113] Plugin optimizer for device_type GPU is enabled.\n"
     ]
    },
    {
     "name": "stdout",
     "output_type": "stream",
     "text": [
      "1379/1379 [==============================] - 4s 2ms/step\n",
      "264 0 3597 3597 360 360\n",
      "265 3597 7182 3585 359 359\n",
      "266 7182 10704 3522 353 353\n",
      "267 10704 14237 3533 354 354\n",
      "268 14237 17825 3588 359 359\n",
      "269 17825 21445 3620 362 362\n",
      "270 21445 25114 3669 367 367\n",
      "271 25114 28816 3702 371 371\n",
      "272 28816 32577 3761 376 376\n",
      "273 32577 36360 3783 379 379\n",
      "274 36360 40211 3851 385 385\n",
      "275 40211 44111 3900 390 390\n",
      "Epoch 1/50\n"
     ]
    },
    {
     "name": "stderr",
     "output_type": "stream",
     "text": [
      "2023-02-11 14:40:05.856514: I tensorflow/core/grappler/optimizers/custom_graph_optimizer_registry.cc:113] Plugin optimizer for device_type GPU is enabled.\n"
     ]
    },
    {
     "name": "stdout",
     "output_type": "stream",
     "text": [
      "2579/2579 [==============================] - ETA: 0s - loss: 0.0187"
     ]
    },
    {
     "name": "stderr",
     "output_type": "stream",
     "text": [
      "2023-02-11 14:40:32.690524: I tensorflow/core/grappler/optimizers/custom_graph_optimizer_registry.cc:113] Plugin optimizer for device_type GPU is enabled.\n"
     ]
    },
    {
     "name": "stdout",
     "output_type": "stream",
     "text": [
      "2579/2579 [==============================] - 33s 12ms/step - loss: 0.0187 - val_loss: 0.0099\n",
      "Epoch 2/50\n",
      "2579/2579 [==============================] - 31s 12ms/step - loss: 0.0095 - val_loss: 0.0094\n",
      "Epoch 3/50\n",
      "2579/2579 [==============================] - 30s 12ms/step - loss: 0.0093 - val_loss: 0.0094\n",
      "Epoch 4/50\n",
      "2579/2579 [==============================] - 30s 12ms/step - loss: 0.0093 - val_loss: 0.0093\n",
      "Epoch 5/50\n",
      "2579/2579 [==============================] - 30s 12ms/step - loss: 0.0092 - val_loss: 0.0097\n",
      "Epoch 6/50\n",
      "2579/2579 [==============================] - 30s 12ms/step - loss: 0.0091 - val_loss: 0.0096\n",
      "Epoch 7/50\n",
      "2579/2579 [==============================] - 30s 12ms/step - loss: 0.0091 - val_loss: 0.0096\n",
      "Epoch 7: early stopping\n",
      "   5/1463 [..............................] - ETA: 20s "
     ]
    },
    {
     "name": "stderr",
     "output_type": "stream",
     "text": [
      "2023-02-11 14:43:39.808248: I tensorflow/core/grappler/optimizers/custom_graph_optimizer_registry.cc:113] Plugin optimizer for device_type GPU is enabled.\n"
     ]
    },
    {
     "name": "stdout",
     "output_type": "stream",
     "text": [
      "1463/1463 [==============================] - 4s 2ms/step\n",
      "276 0 3823 3823 383 383\n",
      "277 3823 7645 3822 383 383\n",
      "278 7645 11416 3771 377 377\n",
      "279 11416 15231 3815 382 382\n",
      "280 15231 19052 3821 382 382\n",
      "281 19052 22810 3758 376 376\n",
      "282 22810 26676 3866 387 387\n",
      "283 26676 30652 3976 398 398\n",
      "284 30652 34684 4032 404 404\n",
      "285 34684 38697 4013 402 402\n",
      "286 38697 42714 4017 402 402\n",
      "287 42714 46799 4085 409 409\n",
      "Epoch 1/50\n"
     ]
    },
    {
     "name": "stderr",
     "output_type": "stream",
     "text": [
      "2023-02-11 14:43:51.295545: I tensorflow/core/grappler/optimizers/custom_graph_optimizer_registry.cc:113] Plugin optimizer for device_type GPU is enabled.\n"
     ]
    },
    {
     "name": "stdout",
     "output_type": "stream",
     "text": [
      "2698/2698 [==============================] - ETA: 0s - loss: 0.0185"
     ]
    },
    {
     "name": "stderr",
     "output_type": "stream",
     "text": [
      "2023-02-11 14:44:19.309235: I tensorflow/core/grappler/optimizers/custom_graph_optimizer_registry.cc:113] Plugin optimizer for device_type GPU is enabled.\n"
     ]
    },
    {
     "name": "stdout",
     "output_type": "stream",
     "text": [
      "2698/2698 [==============================] - 34s 12ms/step - loss: 0.0185 - val_loss: 0.0098\n",
      "Epoch 2/50\n",
      "2698/2698 [==============================] - 32s 12ms/step - loss: 0.0095 - val_loss: 0.0097\n",
      "Epoch 3/50\n",
      "2698/2698 [==============================] - 32s 12ms/step - loss: 0.0093 - val_loss: 0.0094\n",
      "Epoch 4/50\n",
      "2698/2698 [==============================] - 32s 12ms/step - loss: 0.0093 - val_loss: 0.0094\n",
      "Epoch 5/50\n",
      "2698/2698 [==============================] - 32s 12ms/step - loss: 0.0092 - val_loss: 0.0099\n",
      "Epoch 6/50\n",
      "2698/2698 [==============================] - 32s 12ms/step - loss: 0.0092 - val_loss: 0.0093\n",
      "Epoch 7/50\n",
      "2698/2698 [==============================] - 32s 12ms/step - loss: 0.0091 - val_loss: 0.0098\n",
      "Epoch 8/50\n",
      "2698/2698 [==============================] - 32s 12ms/step - loss: 0.0091 - val_loss: 0.0098\n",
      "Epoch 9/50\n",
      "2698/2698 [==============================] - 32s 12ms/step - loss: 0.0091 - val_loss: 0.0095\n",
      "Epoch 9: early stopping\n",
      "   6/1392 [..............................] - ETA: 14s "
     ]
    },
    {
     "name": "stderr",
     "output_type": "stream",
     "text": [
      "2023-02-11 14:48:38.398598: I tensorflow/core/grappler/optimizers/custom_graph_optimizer_registry.cc:113] Plugin optimizer for device_type GPU is enabled.\n"
     ]
    },
    {
     "name": "stdout",
     "output_type": "stream",
     "text": [
      "1392/1392 [==============================] - 3s 2ms/step\n",
      "288 0 4122 4122 413 413\n",
      "289 4122 8256 4134 414 414\n",
      "290 8256 12398 4142 415 415\n",
      "291 12398 15988 3590 359 359\n",
      "292 15988 19420 3432 344 344\n",
      "293 19420 22873 3453 346 346\n",
      "294 22873 26404 3531 353 353\n",
      "295 26404 30000 3596 360 360\n",
      "296 30000 33650 3650 365 365\n",
      "297 33650 37287 3637 364 364\n",
      "298 37287 40878 3591 359 359\n",
      "299 40878 44530 3652 366 366\n",
      "Epoch 1/50\n"
     ]
    },
    {
     "name": "stderr",
     "output_type": "stream",
     "text": [
      "2023-02-11 14:48:49.255869: I tensorflow/core/grappler/optimizers/custom_graph_optimizer_registry.cc:113] Plugin optimizer for device_type GPU is enabled.\n"
     ]
    },
    {
     "name": "stdout",
     "output_type": "stream",
     "text": [
      "2771/2771 [==============================] - ETA: 0s - loss: 0.0184"
     ]
    },
    {
     "name": "stderr",
     "output_type": "stream",
     "text": [
      "2023-02-11 14:49:18.045823: I tensorflow/core/grappler/optimizers/custom_graph_optimizer_registry.cc:113] Plugin optimizer for device_type GPU is enabled.\n"
     ]
    },
    {
     "name": "stdout",
     "output_type": "stream",
     "text": [
      "2771/2771 [==============================] - 35s 12ms/step - loss: 0.0184 - val_loss: 0.0100\n",
      "Epoch 2/50\n",
      "2771/2771 [==============================] - 32s 12ms/step - loss: 0.0097 - val_loss: 0.0096\n",
      "Epoch 3/50\n",
      "2771/2771 [==============================] - 33s 12ms/step - loss: 0.0096 - val_loss: 0.0103\n",
      "Epoch 4/50\n",
      "2771/2771 [==============================] - 33s 12ms/step - loss: 0.0095 - val_loss: 0.0107\n",
      "Epoch 5/50\n",
      "2771/2771 [==============================] - 33s 12ms/step - loss: 0.0094 - val_loss: 0.0097\n",
      "Epoch 5: early stopping\n",
      "   4/1323 [..............................] - ETA: 23s "
     ]
    },
    {
     "name": "stderr",
     "output_type": "stream",
     "text": [
      "2023-02-11 14:51:34.185433: I tensorflow/core/grappler/optimizers/custom_graph_optimizer_registry.cc:113] Plugin optimizer for device_type GPU is enabled.\n"
     ]
    },
    {
     "name": "stdout",
     "output_type": "stream",
     "text": [
      "1323/1323 [==============================] - 3s 2ms/step\n",
      "300 0 3637 3637 364 364\n",
      "301 3637 7220 3583 359 359\n",
      "302 7220 10791 3571 357 357\n",
      "303 10791 14322 3531 353 353\n",
      "304 14322 17783 3461 346 346\n",
      "305 17783 21250 3467 347 347\n",
      "306 21250 24750 3500 350 350\n",
      "307 24750 28241 3491 349 349\n",
      "308 28241 31759 3518 352 352\n",
      "309 31759 35284 3525 353 353\n",
      "310 35284 38822 3538 354 354\n",
      "311 38822 42327 3505 351 351\n",
      "Epoch 1/50\n"
     ]
    },
    {
     "name": "stderr",
     "output_type": "stream",
     "text": [
      "2023-02-11 14:51:44.494054: I tensorflow/core/grappler/optimizers/custom_graph_optimizer_registry.cc:113] Plugin optimizer for device_type GPU is enabled.\n"
     ]
    },
    {
     "name": "stdout",
     "output_type": "stream",
     "text": [
      "2876/2876 [==============================] - ETA: 0s - loss: 0.0179"
     ]
    },
    {
     "name": "stderr",
     "output_type": "stream",
     "text": [
      "2023-02-11 14:52:15.231206: I tensorflow/core/grappler/optimizers/custom_graph_optimizer_registry.cc:113] Plugin optimizer for device_type GPU is enabled.\n"
     ]
    },
    {
     "name": "stdout",
     "output_type": "stream",
     "text": [
      "2876/2876 [==============================] - 37s 12ms/step - loss: 0.0179 - val_loss: 0.0092\n",
      "Epoch 2/50\n",
      "2876/2876 [==============================] - 34s 12ms/step - loss: 0.0094 - val_loss: 0.0092\n",
      "Epoch 3/50\n",
      "2876/2876 [==============================] - 34s 12ms/step - loss: 0.0093 - val_loss: 0.0090\n",
      "Epoch 4/50\n",
      "2876/2876 [==============================] - 34s 12ms/step - loss: 0.0093 - val_loss: 0.0093\n",
      "Epoch 5/50\n",
      "2876/2876 [==============================] - 34s 12ms/step - loss: 0.0092 - val_loss: 0.0089\n",
      "Epoch 6/50\n",
      "2876/2876 [==============================] - 34s 12ms/step - loss: 0.0092 - val_loss: 0.0090\n",
      "Epoch 7/50\n",
      "2876/2876 [==============================] - 34s 12ms/step - loss: 0.0092 - val_loss: 0.0092\n",
      "Epoch 8/50\n",
      "2876/2876 [==============================] - 33s 12ms/step - loss: 0.0091 - val_loss: 0.0090\n",
      "Epoch 8: early stopping\n",
      "   1/1274 [..............................] - ETA: 4:42"
     ]
    },
    {
     "name": "stderr",
     "output_type": "stream",
     "text": [
      "2023-02-11 14:56:17.086597: I tensorflow/core/grappler/optimizers/custom_graph_optimizer_registry.cc:113] Plugin optimizer for device_type GPU is enabled.\n"
     ]
    },
    {
     "name": "stdout",
     "output_type": "stream",
     "text": [
      "1274/1274 [==============================] - 3s 2ms/step\n",
      "312 0 3532 3532 354 354\n",
      "313 3532 7047 3515 352 352\n",
      "314 7047 10574 3527 353 353\n",
      "315 10574 14009 3435 344 344\n",
      "316 14009 17424 3415 342 342\n",
      "317 17424 20835 3411 341 341\n",
      "318 20835 24132 3297 330 330\n",
      "319 24132 27428 3296 330 330\n",
      "320 27428 30759 3331 333 333\n",
      "321 30759 34040 3281 328 328\n",
      "322 34040 37378 3338 334 334\n",
      "323 37378 40741 3363 337 337\n",
      "Epoch 1/50\n"
     ]
    },
    {
     "name": "stderr",
     "output_type": "stream",
     "text": [
      "2023-02-11 14:56:27.078867: I tensorflow/core/grappler/optimizers/custom_graph_optimizer_registry.cc:113] Plugin optimizer for device_type GPU is enabled.\n"
     ]
    },
    {
     "name": "stdout",
     "output_type": "stream",
     "text": [
      "2996/2996 [==============================] - ETA: 0s - loss: 0.0171"
     ]
    },
    {
     "name": "stderr",
     "output_type": "stream",
     "text": [
      "2023-02-11 14:56:58.796070: I tensorflow/core/grappler/optimizers/custom_graph_optimizer_registry.cc:113] Plugin optimizer for device_type GPU is enabled.\n"
     ]
    },
    {
     "name": "stdout",
     "output_type": "stream",
     "text": [
      "2996/2996 [==============================] - 38s 12ms/step - loss: 0.0171 - val_loss: 0.0096\n",
      "Epoch 2/50\n",
      "2996/2996 [==============================] - 35s 12ms/step - loss: 0.0091 - val_loss: 0.0090\n",
      "Epoch 3/50\n",
      "2996/2996 [==============================] - 35s 12ms/step - loss: 0.0090 - val_loss: 0.0091\n",
      "Epoch 4/50\n",
      "2996/2996 [==============================] - 35s 12ms/step - loss: 0.0090 - val_loss: 0.0089\n",
      "Epoch 5/50\n",
      "2996/2996 [==============================] - 35s 12ms/step - loss: 0.0089 - val_loss: 0.0089\n",
      "Epoch 6/50\n",
      "2996/2996 [==============================] - 35s 12ms/step - loss: 0.0089 - val_loss: 0.0088\n",
      "Epoch 7/50\n",
      "2996/2996 [==============================] - 35s 12ms/step - loss: 0.0089 - val_loss: 0.0089\n",
      "Epoch 8/50\n",
      "2996/2996 [==============================] - 35s 12ms/step - loss: 0.0089 - val_loss: 0.0089\n",
      "Epoch 9/50\n",
      "2996/2996 [==============================] - 35s 12ms/step - loss: 0.0089 - val_loss: 0.0090\n",
      "Epoch 9: early stopping\n",
      "   1/1171 [..............................] - ETA: 4:04"
     ]
    },
    {
     "name": "stderr",
     "output_type": "stream",
     "text": [
      "2023-02-11 15:01:41.847577: I tensorflow/core/grappler/optimizers/custom_graph_optimizer_registry.cc:113] Plugin optimizer for device_type GPU is enabled.\n"
     ]
    },
    {
     "name": "stdout",
     "output_type": "stream",
     "text": [
      "1171/1171 [==============================] - 3s 2ms/step\n",
      "324 0 3309 3309 331 331\n",
      "325 3309 6462 3153 316 316\n",
      "326 6462 9471 3009 301 301\n",
      "327 9471 12353 2882 289 289\n",
      "328 12353 15257 2904 291 291\n",
      "329 15257 18144 2887 289 289\n",
      "330 18144 21115 2971 297 297\n",
      "331 21115 24267 3152 316 316\n",
      "332 24267 27504 3237 324 324\n",
      "333 27504 30795 3291 329 329\n",
      "334 30795 34125 3330 333 333\n",
      "335 34125 37443 3318 332 332\n",
      "Epoch 1/50\n"
     ]
    },
    {
     "name": "stderr",
     "output_type": "stream",
     "text": [
      "2023-02-11 15:01:51.212067: I tensorflow/core/grappler/optimizers/custom_graph_optimizer_registry.cc:113] Plugin optimizer for device_type GPU is enabled.\n"
     ]
    },
    {
     "name": "stdout",
     "output_type": "stream",
     "text": [
      "3093/3093 [==============================] - ETA: 0s - loss: 0.0166"
     ]
    },
    {
     "name": "stderr",
     "output_type": "stream",
     "text": [
      "2023-02-11 15:02:24.012874: I tensorflow/core/grappler/optimizers/custom_graph_optimizer_registry.cc:113] Plugin optimizer for device_type GPU is enabled.\n"
     ]
    },
    {
     "name": "stdout",
     "output_type": "stream",
     "text": [
      "3093/3093 [==============================] - 38s 12ms/step - loss: 0.0166 - val_loss: 0.0097\n",
      "Epoch 2/50\n",
      "3093/3093 [==============================] - 35s 11ms/step - loss: 0.0091 - val_loss: 0.0115\n",
      "Epoch 3/50\n",
      "3093/3093 [==============================] - 35s 11ms/step - loss: 0.0090 - val_loss: 0.0097\n",
      "Epoch 4/50\n",
      "3093/3093 [==============================] - 35s 11ms/step - loss: 0.0090 - val_loss: 0.0094\n",
      "Epoch 5/50\n",
      "3093/3093 [==============================] - 34s 11ms/step - loss: 0.0089 - val_loss: 0.0093\n",
      "Epoch 6/50\n",
      "3093/3093 [==============================] - 35s 11ms/step - loss: 0.0089 - val_loss: 0.0100\n",
      "Epoch 7/50\n",
      "3093/3093 [==============================] - 35s 11ms/step - loss: 0.0089 - val_loss: 0.0095\n",
      "Epoch 8/50\n",
      "3093/3093 [==============================] - 35s 11ms/step - loss: 0.0089 - val_loss: 0.0099\n",
      "Epoch 8: early stopping\n",
      "   1/1353 [..............................] - ETA: 5:15"
     ]
    },
    {
     "name": "stderr",
     "output_type": "stream",
     "text": [
      "2023-02-11 15:06:32.104864: I tensorflow/core/grappler/optimizers/custom_graph_optimizer_registry.cc:113] Plugin optimizer for device_type GPU is enabled.\n"
     ]
    },
    {
     "name": "stdout",
     "output_type": "stream",
     "text": [
      "1353/1353 [==============================] - 4s 2ms/step\n",
      "336 0 3360 3360 336 336\n",
      "337 3360 6759 3399 340 340\n",
      "338 6759 10161 3402 341 341\n",
      "339 10161 13601 3440 344 344\n",
      "340 13601 17059 3458 346 346\n",
      "341 17059 20559 3500 254 350\n",
      "342 20559 24260 3701 212 370\n",
      "343 24260 28047 3787 379 379\n",
      "344 28047 31880 3833 384 384\n",
      "345 31880 35679 3799 380 380\n",
      "346 35679 39511 3832 294 384\n",
      "347 39511 43282 3771 377 377\n",
      "Epoch 1/50\n"
     ]
    },
    {
     "name": "stderr",
     "output_type": "stream",
     "text": [
      "2023-02-11 15:06:42.828287: I tensorflow/core/grappler/optimizers/custom_graph_optimizer_registry.cc:113] Plugin optimizer for device_type GPU is enabled.\n"
     ]
    },
    {
     "name": "stdout",
     "output_type": "stream",
     "text": [
      "3198/3198 [==============================] - ETA: 0s - loss: 0.0165"
     ]
    },
    {
     "name": "stderr",
     "output_type": "stream",
     "text": [
      "2023-02-11 15:07:16.913344: I tensorflow/core/grappler/optimizers/custom_graph_optimizer_registry.cc:113] Plugin optimizer for device_type GPU is enabled.\n"
     ]
    },
    {
     "name": "stdout",
     "output_type": "stream",
     "text": [
      "3198/3198 [==============================] - 40s 12ms/step - loss: 0.0165 - val_loss: 0.0095\n",
      "Epoch 2/50\n",
      "3198/3198 [==============================] - 36s 11ms/step - loss: 0.0094 - val_loss: 0.0094\n",
      "Epoch 3/50\n",
      "3198/3198 [==============================] - 36s 11ms/step - loss: 0.0093 - val_loss: 0.0096\n",
      "Epoch 4/50\n",
      "3198/3198 [==============================] - 36s 11ms/step - loss: 0.0092 - val_loss: 0.0094\n",
      "Epoch 5/50\n",
      "3198/3198 [==============================] - 36s 11ms/step - loss: 0.0092 - val_loss: 0.0099\n",
      "Epoch 6/50\n",
      "3198/3198 [==============================] - 36s 11ms/step - loss: 0.0092 - val_loss: 0.0096\n",
      "Epoch 7/50\n",
      "3198/3198 [==============================] - 36s 11ms/step - loss: 0.0092 - val_loss: 0.0093\n",
      "Epoch 8/50\n",
      "3198/3198 [==============================] - 36s 11ms/step - loss: 0.0092 - val_loss: 0.0097\n",
      "Epoch 9/50\n",
      "3198/3198 [==============================] - 36s 11ms/step - loss: 0.0091 - val_loss: 0.0096\n",
      "Epoch 10/50\n",
      "3198/3198 [==============================] - 36s 11ms/step - loss: 0.0091 - val_loss: 0.0093\n",
      "Epoch 11/50\n",
      "3198/3198 [==============================] - 36s 11ms/step - loss: 0.0091 - val_loss: 0.0094\n",
      "Epoch 12/50\n",
      "3198/3198 [==============================] - 36s 11ms/step - loss: 0.0091 - val_loss: 0.0093\n",
      "Epoch 13/50\n",
      "3198/3198 [==============================] - 36s 11ms/step - loss: 0.0091 - val_loss: 0.0095\n",
      "Epoch 14/50\n",
      "3198/3198 [==============================] - 36s 11ms/step - loss: 0.0091 - val_loss: 0.0098\n",
      "Epoch 15/50\n",
      "3198/3198 [==============================] - 36s 11ms/step - loss: 0.0090 - val_loss: 0.0095\n",
      "Epoch 15: early stopping\n",
      "   1/1525 [..............................] - ETA: 5:40"
     ]
    },
    {
     "name": "stderr",
     "output_type": "stream",
     "text": [
      "2023-02-11 15:15:50.041218: I tensorflow/core/grappler/optimizers/custom_graph_optimizer_registry.cc:113] Plugin optimizer for device_type GPU is enabled.\n"
     ]
    },
    {
     "name": "stdout",
     "output_type": "stream",
     "text": [
      "1525/1525 [==============================] - 4s 2ms/step\n",
      "348 0 3814 3814 382 382\n",
      "349 3814 7602 3788 379 379\n",
      "350 7602 11403 3801 380 380\n",
      "351 11403 15276 3873 388 388\n",
      "352 15276 19269 3993 400 400\n",
      "353 19269 23346 4077 408 408\n",
      "354 23346 27511 4165 417 417\n",
      "355 27511 31665 4154 416 416\n",
      "356 31665 35900 4235 424 424\n",
      "357 35900 40120 4220 422 422\n",
      "358 40120 44422 4302 431 431\n",
      "359 44422 48771 4349 435 435\n",
      "Epoch 1/50\n"
     ]
    },
    {
     "name": "stderr",
     "output_type": "stream",
     "text": [
      "2023-02-11 15:16:02.937102: I tensorflow/core/grappler/optimizers/custom_graph_optimizer_registry.cc:113] Plugin optimizer for device_type GPU is enabled.\n"
     ]
    },
    {
     "name": "stdout",
     "output_type": "stream",
     "text": [
      "3271/3271 [==============================] - ETA: 0s - loss: 0.0170"
     ]
    },
    {
     "name": "stderr",
     "output_type": "stream",
     "text": [
      "2023-02-11 15:16:37.633610: I tensorflow/core/grappler/optimizers/custom_graph_optimizer_registry.cc:113] Plugin optimizer for device_type GPU is enabled.\n"
     ]
    },
    {
     "name": "stdout",
     "output_type": "stream",
     "text": [
      "3271/3271 [==============================] - 41s 12ms/step - loss: 0.0170 - val_loss: 0.0091\n",
      "Epoch 2/50\n",
      "3271/3271 [==============================] - 37s 11ms/step - loss: 0.0098 - val_loss: 0.0096\n",
      "Epoch 3/50\n",
      "3271/3271 [==============================] - 37s 11ms/step - loss: 0.0097 - val_loss: 0.0093\n",
      "Epoch 4/50\n",
      "3271/3271 [==============================] - 38s 12ms/step - loss: 0.0097 - val_loss: 0.0092\n",
      "Epoch 4: early stopping\n",
      "   1/1767 [..............................] - ETA: 6:57"
     ]
    },
    {
     "name": "stderr",
     "output_type": "stream",
     "text": [
      "2023-02-11 15:18:35.988214: I tensorflow/core/grappler/optimizers/custom_graph_optimizer_registry.cc:113] Plugin optimizer for device_type GPU is enabled.\n"
     ]
    },
    {
     "name": "stdout",
     "output_type": "stream",
     "text": [
      "1767/1767 [==============================] - 4s 2ms/step\n",
      "360 0 4404 4404 441 441\n",
      "361 4404 8899 4495 450 450\n",
      "362 8899 13475 4576 458 458\n",
      "363 13475 18152 4677 468 468\n",
      "364 18152 22858 4706 471 471\n",
      "365 22858 27609 4751 475 475\n",
      "366 27609 32443 4834 484 484\n",
      "367 32443 37312 4869 487 487\n",
      "368 37312 42141 4829 483 483\n",
      "369 42141 46934 4793 480 480\n",
      "370 46934 51734 4800 480 480\n",
      "371 51734 56518 4784 479 479\n",
      "Epoch 1/50\n"
     ]
    },
    {
     "name": "stderr",
     "output_type": "stream",
     "text": [
      "2023-02-11 15:18:50.867633: I tensorflow/core/grappler/optimizers/custom_graph_optimizer_registry.cc:113] Plugin optimizer for device_type GPU is enabled.\n"
     ]
    },
    {
     "name": "stdout",
     "output_type": "stream",
     "text": [
      "3316/3316 [==============================] - ETA: 0s - loss: 0.0159"
     ]
    },
    {
     "name": "stderr",
     "output_type": "stream",
     "text": [
      "2023-02-11 15:19:26.052371: I tensorflow/core/grappler/optimizers/custom_graph_optimizer_registry.cc:113] Plugin optimizer for device_type GPU is enabled.\n"
     ]
    },
    {
     "name": "stdout",
     "output_type": "stream",
     "text": [
      "3316/3316 [==============================] - 41s 12ms/step - loss: 0.0159 - val_loss: 0.0094\n",
      "Epoch 2/50\n",
      "3316/3316 [==============================] - 38s 11ms/step - loss: 0.0095 - val_loss: 0.0093\n",
      "Epoch 3/50\n",
      "3316/3316 [==============================] - 38s 12ms/step - loss: 0.0094 - val_loss: 0.0093\n",
      "Epoch 4/50\n",
      "3316/3316 [==============================] - 38s 11ms/step - loss: 0.0094 - val_loss: 0.0094\n",
      "Epoch 5/50\n",
      "3316/3316 [==============================] - 38s 11ms/step - loss: 0.0093 - val_loss: 0.0093\n",
      "Epoch 5: early stopping\n",
      "   1/1820 [..............................] - ETA: 7:01"
     ]
    },
    {
     "name": "stderr",
     "output_type": "stream",
     "text": [
      "2023-02-11 15:22:04.332710: I tensorflow/core/grappler/optimizers/custom_graph_optimizer_registry.cc:113] Plugin optimizer for device_type GPU is enabled.\n"
     ]
    },
    {
     "name": "stdout",
     "output_type": "stream",
     "text": [
      "1820/1820 [==============================] - 5s 2ms/step\n",
      "372 0 4796 4796 480 480\n",
      "373 4796 9647 4851 485 485\n",
      "374 9647 14512 4865 487 487\n",
      "375 14512 19386 4874 488 488\n",
      "376 19386 24199 4813 482 482\n",
      "377 24199 28945 4746 475 475\n",
      "378 28945 33728 4783 479 479\n",
      "379 33728 38551 4823 483 483\n",
      "380 38551 43389 4838 484 484\n",
      "381 43389 48268 4879 488 488\n",
      "382 48268 53185 4917 492 492\n",
      "383 53185 58216 5031 503 503\n",
      "Epoch 1/50\n"
     ]
    },
    {
     "name": "stderr",
     "output_type": "stream",
     "text": [
      "2023-02-11 15:22:19.297907: I tensorflow/core/grappler/optimizers/custom_graph_optimizer_registry.cc:113] Plugin optimizer for device_type GPU is enabled.\n"
     ]
    },
    {
     "name": "stdout",
     "output_type": "stream",
     "text": [
      "3347/3347 [==============================] - ETA: 0s - loss: 0.0157"
     ]
    },
    {
     "name": "stderr",
     "output_type": "stream",
     "text": [
      "2023-02-11 15:22:54.876073: I tensorflow/core/grappler/optimizers/custom_graph_optimizer_registry.cc:113] Plugin optimizer for device_type GPU is enabled.\n"
     ]
    },
    {
     "name": "stdout",
     "output_type": "stream",
     "text": [
      "3347/3347 [==============================] - 42s 12ms/step - loss: 0.0157 - val_loss: 0.0099\n",
      "Epoch 2/50\n",
      "3347/3347 [==============================] - 39s 12ms/step - loss: 0.0092 - val_loss: 0.0094\n",
      "Epoch 3/50\n",
      "3347/3347 [==============================] - 39s 12ms/step - loss: 0.0092 - val_loss: 0.0093\n",
      "Epoch 4/50\n",
      "3347/3347 [==============================] - 39s 12ms/step - loss: 0.0091 - val_loss: 0.0092\n",
      "Epoch 5/50\n",
      "3347/3347 [==============================] - 39s 12ms/step - loss: 0.0091 - val_loss: 0.0091\n",
      "Epoch 6/50\n",
      "3347/3347 [==============================] - 39s 12ms/step - loss: 0.0091 - val_loss: 0.0092\n",
      "Epoch 7/50\n",
      "3347/3347 [==============================] - 39s 12ms/step - loss: 0.0090 - val_loss: 0.0093\n",
      "Epoch 8/50\n",
      "3347/3347 [==============================] - 39s 12ms/step - loss: 0.0090 - val_loss: 0.0095\n",
      "Epoch 8: early stopping\n",
      "   1/1991 [..............................] - ETA: 7:42"
     ]
    },
    {
     "name": "stderr",
     "output_type": "stream",
     "text": [
      "2023-02-11 15:27:33.677659: I tensorflow/core/grappler/optimizers/custom_graph_optimizer_registry.cc:113] Plugin optimizer for device_type GPU is enabled.\n"
     ]
    },
    {
     "name": "stdout",
     "output_type": "stream",
     "text": [
      "1991/1991 [==============================] - 5s 2ms/step\n",
      "384 0 5130 5130 513 513\n",
      "385 5130 10334 5204 521 521\n",
      "386 10334 15562 5228 523 523\n",
      "387 15562 20692 5130 513 513\n",
      "388 20692 25862 5170 517 517\n",
      "389 25862 31074 5212 522 522\n",
      "390 31074 36298 5224 523 523\n",
      "391 36298 41575 5277 528 528\n",
      "392 41575 46934 5359 536 536\n",
      "393 46934 52400 5466 547 547\n",
      "394 52400 58054 5654 566 566\n",
      "395 58054 63692 5638 564 564\n",
      "Epoch 1/50\n"
     ]
    },
    {
     "name": "stderr",
     "output_type": "stream",
     "text": [
      "2023-02-11 15:27:50.454044: I tensorflow/core/grappler/optimizers/custom_graph_optimizer_registry.cc:113] Plugin optimizer for device_type GPU is enabled.\n"
     ]
    },
    {
     "name": "stdout",
     "output_type": "stream",
     "text": [
      "3326/3326 [==============================] - ETA: 0s - loss: 0.0162"
     ]
    },
    {
     "name": "stderr",
     "output_type": "stream",
     "text": [
      "2023-02-11 15:28:25.760224: I tensorflow/core/grappler/optimizers/custom_graph_optimizer_registry.cc:113] Plugin optimizer for device_type GPU is enabled.\n"
     ]
    },
    {
     "name": "stdout",
     "output_type": "stream",
     "text": [
      "3326/3326 [==============================] - 43s 12ms/step - loss: 0.0162 - val_loss: 0.0093\n",
      "Epoch 2/50\n",
      "3326/3326 [==============================] - 40s 12ms/step - loss: 0.0094 - val_loss: 0.0090\n",
      "Epoch 3/50\n",
      "3326/3326 [==============================] - 39s 12ms/step - loss: 0.0093 - val_loss: 0.0093\n",
      "Epoch 4/50\n",
      "3326/3326 [==============================] - 39s 12ms/step - loss: 0.0093 - val_loss: 0.0090\n",
      "Epoch 5/50\n",
      "3326/3326 [==============================] - 39s 12ms/step - loss: 0.0092 - val_loss: 0.0096\n",
      "Epoch 6/50\n",
      "3326/3326 [==============================] - 39s 12ms/step - loss: 0.0092 - val_loss: 0.0090\n",
      "Epoch 7/50\n",
      "3326/3326 [==============================] - 39s 12ms/step - loss: 0.0092 - val_loss: 0.0089\n",
      "Epoch 8/50\n",
      "3326/3326 [==============================] - 39s 12ms/step - loss: 0.0092 - val_loss: 0.0089\n",
      "Epoch 9/50\n",
      "3326/3326 [==============================] - 39s 12ms/step - loss: 0.0091 - val_loss: 0.0090\n",
      "Epoch 10/50\n",
      "3326/3326 [==============================] - 39s 12ms/step - loss: 0.0091 - val_loss: 0.0094\n",
      "Epoch 10: early stopping\n"
     ]
    },
    {
     "name": "stderr",
     "output_type": "stream",
     "text": [
      "2023-02-11 15:34:26.410998: I tensorflow/core/grappler/optimizers/custom_graph_optimizer_registry.cc:113] Plugin optimizer for device_type GPU is enabled.\n"
     ]
    },
    {
     "name": "stdout",
     "output_type": "stream",
     "text": [
      "2075/2075 [==============================] - 5s 2ms/step\n",
      "396 0 5483 5483 549 549\n",
      "397 5483 11037 5554 556 556\n",
      "398 11037 16615 5578 558 558\n",
      "399 16615 22155 5540 554 554\n",
      "400 22155 27735 5580 558 558\n",
      "401 27735 33281 5546 555 555\n",
      "402 33281 38921 5640 564 564\n",
      "403 38921 44532 5611 561 561\n",
      "404 44532 50011 5479 548 548\n",
      "405 50011 55407 5396 540 540\n",
      "406 55407 60886 5479 548 548\n",
      "407 60886 66397 5511 551 551\n",
      "Epoch 1/50\n"
     ]
    },
    {
     "name": "stderr",
     "output_type": "stream",
     "text": [
      "2023-02-11 15:34:43.983883: I tensorflow/core/grappler/optimizers/custom_graph_optimizer_registry.cc:113] Plugin optimizer for device_type GPU is enabled.\n"
     ]
    },
    {
     "name": "stdout",
     "output_type": "stream",
     "text": [
      "3358/3358 [==============================] - ETA: 0s - loss: 0.0159"
     ]
    },
    {
     "name": "stderr",
     "output_type": "stream",
     "text": [
      "2023-02-11 15:35:19.457771: I tensorflow/core/grappler/optimizers/custom_graph_optimizer_registry.cc:113] Plugin optimizer for device_type GPU is enabled.\n"
     ]
    },
    {
     "name": "stdout",
     "output_type": "stream",
     "text": [
      "3358/3358 [==============================] - 43s 12ms/step - loss: 0.0159 - val_loss: 0.0095\n",
      "Epoch 2/50\n",
      "3358/3358 [==============================] - 41s 12ms/step - loss: 0.0094 - val_loss: 0.0092\n",
      "Epoch 3/50\n",
      "3358/3358 [==============================] - 41s 12ms/step - loss: 0.0093 - val_loss: 0.0093\n",
      "Epoch 4/50\n",
      "3358/3358 [==============================] - 41s 12ms/step - loss: 0.0093 - val_loss: 0.0093\n",
      "Epoch 5/50\n",
      "3358/3358 [==============================] - 40s 12ms/step - loss: 0.0093 - val_loss: 0.0092\n",
      "Epoch 6/50\n",
      "3358/3358 [==============================] - 40s 12ms/step - loss: 0.0092 - val_loss: 0.0094\n",
      "Epoch 7/50\n",
      "3358/3358 [==============================] - 40s 12ms/step - loss: 0.0092 - val_loss: 0.0092\n",
      "Epoch 8/50\n",
      "3358/3358 [==============================] - 40s 12ms/step - loss: 0.0092 - val_loss: 0.0092\n",
      "Epoch 9/50\n",
      "3358/3358 [==============================] - 40s 12ms/step - loss: 0.0092 - val_loss: 0.0092\n",
      "Epoch 10/50\n",
      "3358/3358 [==============================] - 40s 12ms/step - loss: 0.0092 - val_loss: 0.0093\n",
      "Epoch 10: early stopping\n"
     ]
    },
    {
     "name": "stderr",
     "output_type": "stream",
     "text": [
      "2023-02-11 15:41:30.331396: I tensorflow/core/grappler/optimizers/custom_graph_optimizer_registry.cc:113] Plugin optimizer for device_type GPU is enabled.\n"
     ]
    },
    {
     "name": "stdout",
     "output_type": "stream",
     "text": [
      "2090/2090 [==============================] - 6s 2ms/step\n",
      "408 0 5545 5545 555 555\n",
      "409 5545 11146 5601 560 560\n",
      "410 11146 16862 5716 572 572\n",
      "411 16862 22545 5683 569 569\n",
      "412 22545 28197 5652 566 566\n",
      "413 28197 33688 5491 549 549\n",
      "414 33688 39169 5481 548 548\n",
      "415 39169 44708 5539 554 554\n",
      "416 44708 50295 5587 559 559\n",
      "417 50295 55899 5604 561 561\n",
      "418 55899 61444 5545 555 555\n",
      "419 61444 66870 5426 543 543\n",
      "Epoch 1/50\n"
     ]
    },
    {
     "name": "stderr",
     "output_type": "stream",
     "text": [
      "2023-02-11 15:41:48.072732: I tensorflow/core/grappler/optimizers/custom_graph_optimizer_registry.cc:113] Plugin optimizer for device_type GPU is enabled.\n"
     ]
    },
    {
     "name": "stdout",
     "output_type": "stream",
     "text": [
      "3418/3418 [==============================] - ETA: 0s - loss: 0.0157"
     ]
    },
    {
     "name": "stderr",
     "output_type": "stream",
     "text": [
      "2023-02-11 15:42:25.575424: I tensorflow/core/grappler/optimizers/custom_graph_optimizer_registry.cc:113] Plugin optimizer for device_type GPU is enabled.\n"
     ]
    },
    {
     "name": "stdout",
     "output_type": "stream",
     "text": [
      "3418/3418 [==============================] - 46s 13ms/step - loss: 0.0157 - val_loss: 0.0096\n",
      "Epoch 2/50\n",
      "3418/3418 [==============================] - 41s 12ms/step - loss: 0.0092 - val_loss: 0.0095\n",
      "Epoch 3/50\n",
      "3418/3418 [==============================] - 41s 12ms/step - loss: 0.0092 - val_loss: 0.0098\n",
      "Epoch 4/50\n",
      "3418/3418 [==============================] - 41s 12ms/step - loss: 0.0091 - val_loss: 0.0098\n",
      "Epoch 5/50\n",
      "3418/3418 [==============================] - 41s 12ms/step - loss: 0.0091 - val_loss: 0.0096\n",
      "Epoch 5: early stopping\n",
      "   1/1854 [..............................] - ETA: 6:33"
     ]
    },
    {
     "name": "stderr",
     "output_type": "stream",
     "text": [
      "2023-02-11 15:45:17.745576: I tensorflow/core/grappler/optimizers/custom_graph_optimizer_registry.cc:113] Plugin optimizer for device_type GPU is enabled.\n"
     ]
    },
    {
     "name": "stdout",
     "output_type": "stream",
     "text": [
      "1854/1854 [==============================] - 5s 3ms/step\n",
      "420 0 5326 5326 533 533\n",
      "421 5326 10213 4887 489 489\n",
      "422 10213 15109 4896 490 490\n",
      "423 15109 19977 4868 487 487\n",
      "424 19977 24924 4947 495 495\n",
      "425 24924 29829 4905 491 491\n",
      "426 29829 34835 5006 501 501\n",
      "427 34835 39716 4881 488 488\n",
      "428 39716 44487 4771 477 477\n",
      "429 44487 49392 4905 491 491\n",
      "430 49392 54347 4955 496 496\n",
      "431 54347 59309 4962 497 497\n",
      "Epoch 1/50\n"
     ]
    },
    {
     "name": "stderr",
     "output_type": "stream",
     "text": [
      "2023-02-11 15:45:33.328363: I tensorflow/core/grappler/optimizers/custom_graph_optimizer_registry.cc:113] Plugin optimizer for device_type GPU is enabled.\n"
     ]
    },
    {
     "name": "stdout",
     "output_type": "stream",
     "text": [
      "3500/3500 [==============================] - ETA: 0s - loss: 0.0151"
     ]
    },
    {
     "name": "stderr",
     "output_type": "stream",
     "text": [
      "2023-02-11 15:46:10.692588: I tensorflow/core/grappler/optimizers/custom_graph_optimizer_registry.cc:113] Plugin optimizer for device_type GPU is enabled.\n"
     ]
    },
    {
     "name": "stdout",
     "output_type": "stream",
     "text": [
      "3500/3500 [==============================] - 46s 13ms/step - loss: 0.0151 - val_loss: 0.0107\n",
      "Epoch 2/50\n",
      "3500/3500 [==============================] - 42s 12ms/step - loss: 0.0092 - val_loss: 0.0109\n",
      "Epoch 3/50\n",
      "3500/3500 [==============================] - 42s 12ms/step - loss: 0.0091 - val_loss: 0.0112\n",
      "Epoch 4/50\n",
      "3500/3500 [==============================] - 42s 12ms/step - loss: 0.0091 - val_loss: 0.0105\n",
      "Epoch 5/50\n",
      "3500/3500 [==============================] - 42s 12ms/step - loss: 0.0091 - val_loss: 0.0107\n",
      "Epoch 6/50\n",
      "3500/3500 [==============================] - 42s 12ms/step - loss: 0.0090 - val_loss: 0.0106\n",
      "Epoch 7/50\n",
      "3500/3500 [==============================] - 42s 12ms/step - loss: 0.0090 - val_loss: 0.0107\n",
      "Epoch 7: early stopping\n"
     ]
    },
    {
     "name": "stderr",
     "output_type": "stream",
     "text": [
      "2023-02-11 15:50:30.546457: I tensorflow/core/grappler/optimizers/custom_graph_optimizer_registry.cc:113] Plugin optimizer for device_type GPU is enabled.\n"
     ]
    },
    {
     "name": "stdout",
     "output_type": "stream",
     "text": [
      "1847/1847 [==============================] - 5s 2ms/step\n",
      "432 0 4997 4997 500 500\n",
      "433 4997 9894 4897 490 490\n",
      "434 9894 14726 4832 484 484\n",
      "435 14726 19521 4795 480 480\n",
      "436 19521 24426 4905 491 491\n",
      "437 24426 29403 4977 498 498\n",
      "438 29403 34445 5042 505 505\n",
      "439 34445 39646 5201 520 520\n",
      "440 39646 44780 5134 514 514\n",
      "441 44780 49651 4871 487 487\n",
      "442 49651 54342 4691 469 469\n",
      "443 54342 59094 4752 476 476\n",
      "Epoch 1/50\n"
     ]
    },
    {
     "name": "stderr",
     "output_type": "stream",
     "text": [
      "2023-02-11 15:50:46.291453: I tensorflow/core/grappler/optimizers/custom_graph_optimizer_registry.cc:113] Plugin optimizer for device_type GPU is enabled.\n"
     ]
    },
    {
     "name": "stdout",
     "output_type": "stream",
     "text": [
      "3616/3616 [==============================] - ETA: 0s - loss: 0.0150"
     ]
    },
    {
     "name": "stderr",
     "output_type": "stream",
     "text": [
      "2023-02-11 15:51:24.961177: I tensorflow/core/grappler/optimizers/custom_graph_optimizer_registry.cc:113] Plugin optimizer for device_type GPU is enabled.\n"
     ]
    },
    {
     "name": "stdout",
     "output_type": "stream",
     "text": [
      "3616/3616 [==============================] - 47s 13ms/step - loss: 0.0150 - val_loss: 0.0119\n",
      "Epoch 2/50\n",
      "3616/3616 [==============================] - 43s 12ms/step - loss: 0.0091 - val_loss: 0.0120\n",
      "Epoch 3/50\n",
      "3616/3616 [==============================] - 43s 12ms/step - loss: 0.0091 - val_loss: 0.0119\n",
      "Epoch 4/50\n",
      "3616/3616 [==============================] - 43s 12ms/step - loss: 0.0090 - val_loss: 0.0119\n",
      "Epoch 5/50\n",
      "3616/3616 [==============================] - 43s 12ms/step - loss: 0.0090 - val_loss: 0.0118\n",
      "Epoch 6/50\n",
      "3616/3616 [==============================] - 43s 12ms/step - loss: 0.0090 - val_loss: 0.0117\n",
      "Epoch 7/50\n",
      "3616/3616 [==============================] - 43s 12ms/step - loss: 0.0090 - val_loss: 0.0117\n",
      "Epoch 8/50\n",
      "3616/3616 [==============================] - 43s 12ms/step - loss: 0.0090 - val_loss: 0.0117\n",
      "Epoch 9/50\n",
      "3616/3616 [==============================] - 43s 12ms/step - loss: 0.0089 - val_loss: 0.0123\n",
      "Epoch 10/50\n",
      "3616/3616 [==============================] - 43s 12ms/step - loss: 0.0089 - val_loss: 0.0117\n",
      "Epoch 11/50\n",
      "3616/3616 [==============================] - 43s 12ms/step - loss: 0.0089 - val_loss: 0.0117\n",
      "Epoch 12/50\n",
      "3616/3616 [==============================] - 43s 12ms/step - loss: 0.0089 - val_loss: 0.0118\n",
      "Epoch 13/50\n",
      "3616/3616 [==============================] - 43s 12ms/step - loss: 0.0089 - val_loss: 0.0117\n",
      "Epoch 13: early stopping\n"
     ]
    },
    {
     "name": "stderr",
     "output_type": "stream",
     "text": [
      "2023-02-11 16:00:09.154590: I tensorflow/core/grappler/optimizers/custom_graph_optimizer_registry.cc:113] Plugin optimizer for device_type GPU is enabled.\n"
     ]
    },
    {
     "name": "stdout",
     "output_type": "stream",
     "text": [
      "1583/1583 [==============================] - 4s 3ms/step\n",
      "444 0 4676 4676 468 468\n",
      "445 4676 9427 4751 475 475\n",
      "446 9427 14033 4606 461 461\n",
      "447 14033 18442 4409 441 441\n",
      "448 18442 22551 4109 411 411\n",
      "449 22551 26543 3992 400 400\n",
      "450 26543 30781 4238 424 424\n",
      "451 30781 34836 4055 406 406\n",
      "452 34836 38742 3906 391 391\n",
      "453 38742 42655 3913 392 392\n",
      "454 42655 46661 4006 401 401\n",
      "455 46661 50652 3991 399 399\n",
      "Epoch 1/50\n"
     ]
    },
    {
     "name": "stderr",
     "output_type": "stream",
     "text": [
      "2023-02-11 16:00:22.505360: I tensorflow/core/grappler/optimizers/custom_graph_optimizer_registry.cc:113] Plugin optimizer for device_type GPU is enabled.\n"
     ]
    },
    {
     "name": "stdout",
     "output_type": "stream",
     "text": [
      "3769/3769 [==============================] - ETA: 0s - loss: 0.0146"
     ]
    },
    {
     "name": "stderr",
     "output_type": "stream",
     "text": [
      "2023-02-11 16:01:03.298881: I tensorflow/core/grappler/optimizers/custom_graph_optimizer_registry.cc:113] Plugin optimizer for device_type GPU is enabled.\n"
     ]
    },
    {
     "name": "stdout",
     "output_type": "stream",
     "text": [
      "3769/3769 [==============================] - 49s 13ms/step - loss: 0.0146 - val_loss: 0.0128\n",
      "Epoch 2/50\n",
      "3769/3769 [==============================] - 44s 12ms/step - loss: 0.0092 - val_loss: 0.0128\n",
      "Epoch 3/50\n",
      "3769/3769 [==============================] - 45s 12ms/step - loss: 0.0092 - val_loss: 0.0128\n",
      "Epoch 4/50\n",
      "3769/3769 [==============================] - 45s 12ms/step - loss: 0.0091 - val_loss: 0.0126\n",
      "Epoch 5/50\n",
      "3769/3769 [==============================] - 45s 12ms/step - loss: 0.0091 - val_loss: 0.0129\n",
      "Epoch 6/50\n",
      "3769/3769 [==============================] - 45s 12ms/step - loss: 0.0091 - val_loss: 0.0127\n",
      "Epoch 7/50\n",
      "3769/3769 [==============================] - 44s 12ms/step - loss: 0.0090 - val_loss: 0.0126\n",
      "Epoch 8/50\n",
      "3769/3769 [==============================] - 44s 12ms/step - loss: 0.0090 - val_loss: 0.0128\n",
      "Epoch 9/50\n",
      "3769/3769 [==============================] - 45s 12ms/step - loss: 0.0090 - val_loss: 0.0127\n",
      "Epoch 10/50\n",
      "3769/3769 [==============================] - 44s 12ms/step - loss: 0.0090 - val_loss: 0.0129\n",
      "Epoch 10: early stopping\n",
      "   1/1401 [..............................] - ETA: 5:13"
     ]
    },
    {
     "name": "stderr",
     "output_type": "stream",
     "text": [
      "2023-02-11 16:07:52.002619: I tensorflow/core/grappler/optimizers/custom_graph_optimizer_registry.cc:113] Plugin optimizer for device_type GPU is enabled.\n"
     ]
    },
    {
     "name": "stdout",
     "output_type": "stream",
     "text": [
      "1401/1401 [==============================] - 4s 3ms/step\n",
      "456 0 3933 3933 394 394\n",
      "457 3933 7767 3834 384 384\n",
      "458 7767 11368 3601 360 360\n",
      "459 11368 15033 3665 367 367\n",
      "460 15033 18777 3744 375 375\n",
      "461 18777 22591 3814 382 382\n",
      "462 22591 26384 3793 380 380\n",
      "463 26384 30073 3689 369 369\n",
      "464 30073 33845 3772 378 378\n",
      "465 33845 37574 3729 373 373\n",
      "466 37574 41253 3679 368 368\n",
      "467 41253 44824 3571 357 357\n",
      "Epoch 1/50\n"
     ]
    },
    {
     "name": "stderr",
     "output_type": "stream",
     "text": [
      "2023-02-11 16:08:03.303751: I tensorflow/core/grappler/optimizers/custom_graph_optimizer_registry.cc:113] Plugin optimizer for device_type GPU is enabled.\n"
     ]
    },
    {
     "name": "stdout",
     "output_type": "stream",
     "text": [
      "3922/3922 [==============================] - ETA: 0s - loss: 0.0147"
     ]
    },
    {
     "name": "stderr",
     "output_type": "stream",
     "text": [
      "2023-02-11 16:08:46.606171: I tensorflow/core/grappler/optimizers/custom_graph_optimizer_registry.cc:113] Plugin optimizer for device_type GPU is enabled.\n"
     ]
    },
    {
     "name": "stdout",
     "output_type": "stream",
     "text": [
      "3922/3922 [==============================] - 51s 13ms/step - loss: 0.0147 - val_loss: 0.0133\n",
      "Epoch 2/50\n",
      "3922/3922 [==============================] - 46s 12ms/step - loss: 0.0093 - val_loss: 0.0131\n",
      "Epoch 3/50\n",
      "3922/3922 [==============================] - 46s 12ms/step - loss: 0.0093 - val_loss: 0.0131\n",
      "Epoch 4/50\n",
      "3922/3922 [==============================] - 46s 12ms/step - loss: 0.0092 - val_loss: 0.0132\n",
      "Epoch 5/50\n",
      "3922/3922 [==============================] - 47s 12ms/step - loss: 0.0092 - val_loss: 0.0135\n",
      "Epoch 5: early stopping\n"
     ]
    },
    {
     "name": "stderr",
     "output_type": "stream",
     "text": [
      "2023-02-11 16:11:59.235365: I tensorflow/core/grappler/optimizers/custom_graph_optimizer_registry.cc:113] Plugin optimizer for device_type GPU is enabled.\n"
     ]
    },
    {
     "name": "stdout",
     "output_type": "stream",
     "text": [
      "1251/1251 [==============================] - 4s 3ms/step\n",
      "468 0 3373 3373 338 338\n",
      "469 3373 6722 3349 335 335\n",
      "470 6722 9940 3218 322 322\n",
      "471 9940 13203 3263 327 327\n",
      "472 13203 16581 3378 338 338\n",
      "473 16581 19912 3331 333 333\n",
      "474 19912 23206 3294 330 330\n",
      "475 23206 26458 3252 326 326\n",
      "476 26458 29680 3222 323 323\n",
      "477 29680 33000 3320 332 332\n",
      "478 33000 36475 3475 348 348\n",
      "479 36475 40015 3540 354 354\n",
      "Epoch 1/50\n"
     ]
    },
    {
     "name": "stderr",
     "output_type": "stream",
     "text": [
      "2023-02-11 16:12:09.468180: I tensorflow/core/grappler/optimizers/custom_graph_optimizer_registry.cc:113] Plugin optimizer for device_type GPU is enabled.\n"
     ]
    },
    {
     "name": "stdout",
     "output_type": "stream",
     "text": [
      "4096/4096 [==============================] - ETA: 0s - loss: 0.0145"
     ]
    },
    {
     "name": "stderr",
     "output_type": "stream",
     "text": [
      "2023-02-11 16:12:53.844175: I tensorflow/core/grappler/optimizers/custom_graph_optimizer_registry.cc:113] Plugin optimizer for device_type GPU is enabled.\n"
     ]
    },
    {
     "name": "stdout",
     "output_type": "stream",
     "text": [
      "4096/4096 [==============================] - 51s 12ms/step - loss: 0.0145 - val_loss: 0.0137\n",
      "Epoch 2/50\n",
      "4096/4096 [==============================] - 47s 11ms/step - loss: 0.0093 - val_loss: 0.0134\n",
      "Epoch 3/50\n",
      "4096/4096 [==============================] - 47s 11ms/step - loss: 0.0093 - val_loss: 0.0134\n",
      "Epoch 4/50\n",
      "4096/4096 [==============================] - 47s 11ms/step - loss: 0.0092 - val_loss: 0.0135\n",
      "Epoch 5/50\n",
      "4096/4096 [==============================] - 47s 11ms/step - loss: 0.0092 - val_loss: 0.0133\n",
      "Epoch 6/50\n",
      "4096/4096 [==============================] - 47s 11ms/step - loss: 0.0092 - val_loss: 0.0137\n",
      "Epoch 7/50\n",
      "4096/4096 [==============================] - 46s 11ms/step - loss: 0.0092 - val_loss: 0.0133\n",
      "Epoch 8/50\n",
      "4096/4096 [==============================] - 46s 11ms/step - loss: 0.0092 - val_loss: 0.0132\n",
      "Epoch 9/50\n",
      "4096/4096 [==============================] - 47s 11ms/step - loss: 0.0091 - val_loss: 0.0134\n",
      "Epoch 10/50\n",
      "4096/4096 [==============================] - 49s 12ms/step - loss: 0.0091 - val_loss: 0.0135\n",
      "Epoch 11/50\n",
      "4096/4096 [==============================] - 48s 12ms/step - loss: 0.0091 - val_loss: 0.0134\n",
      "Epoch 11: early stopping\n"
     ]
    },
    {
     "name": "stderr",
     "output_type": "stream",
     "text": [
      "2023-02-11 16:20:51.102808: I tensorflow/core/grappler/optimizers/custom_graph_optimizer_registry.cc:113] Plugin optimizer for device_type GPU is enabled.\n"
     ]
    },
    {
     "name": "stdout",
     "output_type": "stream",
     "text": [
      "1432/1432 [==============================] - 4s 3ms/step\n",
      "480 0 3615 3615 362 362\n",
      "481 3615 7267 3652 366 366\n",
      "482 7267 10963 3696 370 370\n",
      "483 10963 14752 3789 379 379\n",
      "484 14752 18573 3821 382 382\n",
      "485 18573 22420 3847 385 385\n",
      "486 22420 26349 3929 393 393\n",
      "487 26349 30289 3940 394 394\n",
      "488 30289 34220 3931 393 393\n",
      "489 34220 38087 3867 387 387\n",
      "490 38087 41939 3852 386 386\n",
      "491 41939 45798 3859 386 386\n",
      "Epoch 1/50\n"
     ]
    },
    {
     "name": "stderr",
     "output_type": "stream",
     "text": [
      "2023-02-11 16:21:03.461949: I tensorflow/core/grappler/optimizers/custom_graph_optimizer_registry.cc:113] Plugin optimizer for device_type GPU is enabled.\n"
     ]
    },
    {
     "name": "stdout",
     "output_type": "stream",
     "text": [
      "4229/4229 [==============================] - ETA: 0s - loss: 0.0147"
     ]
    },
    {
     "name": "stderr",
     "output_type": "stream",
     "text": [
      "2023-02-11 16:21:50.407457: I tensorflow/core/grappler/optimizers/custom_graph_optimizer_registry.cc:113] Plugin optimizer for device_type GPU is enabled.\n"
     ]
    },
    {
     "name": "stdout",
     "output_type": "stream",
     "text": [
      "4229/4229 [==============================] - 54s 12ms/step - loss: 0.0147 - val_loss: 0.0122\n",
      "Epoch 2/50\n",
      "4229/4229 [==============================] - 49s 12ms/step - loss: 0.0101 - val_loss: 0.0123\n",
      "Epoch 3/50\n",
      "4229/4229 [==============================] - 49s 12ms/step - loss: 0.0100 - val_loss: 0.0121\n",
      "Epoch 4/50\n",
      "4229/4229 [==============================] - 49s 11ms/step - loss: 0.0100 - val_loss: 0.0121\n",
      "Epoch 5/50\n",
      "4229/4229 [==============================] - 49s 11ms/step - loss: 0.0100 - val_loss: 0.0121\n",
      "Epoch 6/50\n",
      "4229/4229 [==============================] - 49s 11ms/step - loss: 0.0099 - val_loss: 0.0120\n",
      "Epoch 7/50\n",
      "4229/4229 [==============================] - 48s 11ms/step - loss: 0.0099 - val_loss: 0.0120\n",
      "Epoch 8/50\n",
      "4229/4229 [==============================] - 49s 12ms/step - loss: 0.0099 - val_loss: 0.0120\n",
      "Epoch 9/50\n",
      "4229/4229 [==============================] - 49s 12ms/step - loss: 0.0099 - val_loss: 0.0120\n",
      "Epoch 9: early stopping\n"
     ]
    },
    {
     "name": "stderr",
     "output_type": "stream",
     "text": [
      "2023-02-11 16:28:26.982634: I tensorflow/core/grappler/optimizers/custom_graph_optimizer_registry.cc:113] Plugin optimizer for device_type GPU is enabled.\n"
     ]
    },
    {
     "name": "stdout",
     "output_type": "stream",
     "text": [
      "1419/1419 [==============================] - 4s 3ms/step\n",
      "492 0 3752 3752 376 376\n",
      "493 3752 7472 3720 372 372\n",
      "494 7472 11235 3763 377 377\n",
      "495 11235 15000 3765 377 377\n",
      "496 15000 18830 3830 383 383\n",
      "497 18830 22729 3899 390 390\n",
      "498 22729 26566 3837 384 384\n",
      "499 26566 30412 3846 385 385\n",
      "500 30412 34221 3809 381 381\n",
      "501 34221 37918 3697 370 370\n",
      "502 37918 41643 3725 373 373\n",
      "503 41643 45407 3764 377 377\n",
      "Epoch 1/50\n"
     ]
    },
    {
     "name": "stderr",
     "output_type": "stream",
     "text": [
      "2023-02-11 16:28:38.978651: I tensorflow/core/grappler/optimizers/custom_graph_optimizer_registry.cc:113] Plugin optimizer for device_type GPU is enabled.\n"
     ]
    },
    {
     "name": "stdout",
     "output_type": "stream",
     "text": [
      "4372/4372 [==============================] - ETA: 0s - loss: 0.0158"
     ]
    },
    {
     "name": "stderr",
     "output_type": "stream",
     "text": [
      "2023-02-11 16:29:28.036669: I tensorflow/core/grappler/optimizers/custom_graph_optimizer_registry.cc:113] Plugin optimizer for device_type GPU is enabled.\n"
     ]
    },
    {
     "name": "stdout",
     "output_type": "stream",
     "text": [
      "4372/4372 [==============================] - 56s 12ms/step - loss: 0.0158 - val_loss: 0.0107\n",
      "Epoch 2/50\n",
      "4372/4372 [==============================] - 50s 11ms/step - loss: 0.0107 - val_loss: 0.0107\n",
      "Epoch 3/50\n",
      "4372/4372 [==============================] - 49s 11ms/step - loss: 0.0107 - val_loss: 0.0106\n",
      "Epoch 4/50\n",
      "4372/4372 [==============================] - 49s 11ms/step - loss: 0.0106 - val_loss: 0.0107\n",
      "Epoch 5/50\n",
      "4372/4372 [==============================] - 49s 11ms/step - loss: 0.0106 - val_loss: 0.0111\n",
      "Epoch 6/50\n",
      "4372/4372 [==============================] - 49s 11ms/step - loss: 0.0106 - val_loss: 0.0107\n",
      "Epoch 6: early stopping\n"
     ]
    },
    {
     "name": "stderr",
     "output_type": "stream",
     "text": [
      "2023-02-11 16:33:40.201468: I tensorflow/core/grappler/optimizers/custom_graph_optimizer_registry.cc:113] Plugin optimizer for device_type GPU is enabled.\n"
     ]
    },
    {
     "name": "stdout",
     "output_type": "stream",
     "text": [
      "1444/1444 [==============================] - 4s 2ms/step\n",
      "504 0 3844 3844 385 385\n",
      "505 3844 7668 3824 383 383\n",
      "506 7668 11494 3826 383 383\n",
      "507 11494 15301 3807 381 381\n",
      "508 15301 19118 3817 382 382\n",
      "509 19118 22952 3834 384 384\n",
      "510 22952 26816 3864 387 387\n",
      "511 26816 30699 3883 389 389\n",
      "512 30699 34610 3911 391 391\n",
      "513 34610 38514 3904 391 391\n",
      "514 38514 42364 3850 385 385\n",
      "515 42364 46208 3844 385 385\n",
      "Epoch 1/50\n"
     ]
    },
    {
     "name": "stderr",
     "output_type": "stream",
     "text": [
      "2023-02-11 16:33:52.126107: I tensorflow/core/grappler/optimizers/custom_graph_optimizer_registry.cc:113] Plugin optimizer for device_type GPU is enabled.\n"
     ]
    },
    {
     "name": "stdout",
     "output_type": "stream",
     "text": [
      "4476/4476 [==============================] - ETA: 0s - loss: 0.0158"
     ]
    },
    {
     "name": "stderr",
     "output_type": "stream",
     "text": [
      "2023-02-11 16:34:40.435614: I tensorflow/core/grappler/optimizers/custom_graph_optimizer_registry.cc:113] Plugin optimizer for device_type GPU is enabled.\n"
     ]
    },
    {
     "name": "stdout",
     "output_type": "stream",
     "text": [
      "4476/4476 [==============================] - 55s 12ms/step - loss: 0.0158 - val_loss: 0.0092\n",
      "Epoch 2/50\n",
      "4476/4476 [==============================] - 50s 11ms/step - loss: 0.0110 - val_loss: 0.0092\n",
      "Epoch 3/50\n",
      "4476/4476 [==============================] - 50s 11ms/step - loss: 0.0110 - val_loss: 0.0090\n",
      "Epoch 4/50\n",
      "4476/4476 [==============================] - 50s 11ms/step - loss: 0.0109 - val_loss: 0.0094\n",
      "Epoch 5/50\n",
      "4476/4476 [==============================] - 49s 11ms/step - loss: 0.0109 - val_loss: 0.0093\n",
      "Epoch 6/50\n",
      "4476/4476 [==============================] - 49s 11ms/step - loss: 0.0109 - val_loss: 0.0094\n",
      "Epoch 6: early stopping\n"
     ]
    },
    {
     "name": "stderr",
     "output_type": "stream",
     "text": [
      "2023-02-11 16:38:54.904085: I tensorflow/core/grappler/optimizers/custom_graph_optimizer_registry.cc:113] Plugin optimizer for device_type GPU is enabled.\n"
     ]
    },
    {
     "name": "stdout",
     "output_type": "stream",
     "text": [
      "1439/1439 [==============================] - 4s 2ms/step\n",
      "516 0 3791 3791 379 379\n",
      "517 3791 7567 3776 378 378\n",
      "518 7567 11362 3795 380 380\n",
      "519 11362 15205 3843 385 385\n",
      "520 15205 19065 3860 386 386\n",
      "521 19065 22925 3860 386 386\n",
      "522 22925 26785 3860 386 386\n",
      "523 26785 30638 3853 386 386\n",
      "524 30638 34486 3848 385 385\n",
      "525 34486 38330 3844 385 385\n",
      "526 38330 42186 3856 386 386\n",
      "527 42186 46033 3847 385 385\n",
      "Epoch 1/50\n"
     ]
    },
    {
     "name": "stderr",
     "output_type": "stream",
     "text": [
      "2023-02-11 16:39:06.770798: I tensorflow/core/grappler/optimizers/custom_graph_optimizer_registry.cc:113] Plugin optimizer for device_type GPU is enabled.\n"
     ]
    },
    {
     "name": "stdout",
     "output_type": "stream",
     "text": [
      "4488/4488 [==============================] - ETA: 0s - loss: 0.0161"
     ]
    },
    {
     "name": "stderr",
     "output_type": "stream",
     "text": [
      "2023-02-11 16:39:55.066523: I tensorflow/core/grappler/optimizers/custom_graph_optimizer_registry.cc:113] Plugin optimizer for device_type GPU is enabled.\n"
     ]
    },
    {
     "name": "stdout",
     "output_type": "stream",
     "text": [
      "4488/4488 [==============================] - 55s 12ms/step - loss: 0.0161 - val_loss: 0.0088\n",
      "Epoch 2/50\n",
      "4488/4488 [==============================] - 51s 11ms/step - loss: 0.0112 - val_loss: 0.0085\n",
      "Epoch 3/50\n",
      "4488/4488 [==============================] - 53s 12ms/step - loss: 0.0111 - val_loss: 0.0087\n",
      "Epoch 4/50\n",
      "4488/4488 [==============================] - 50s 11ms/step - loss: 0.0110 - val_loss: 0.0088\n",
      "Epoch 5/50\n",
      "4488/4488 [==============================] - 50s 11ms/step - loss: 0.0110 - val_loss: 0.0081\n",
      "Epoch 6/50\n",
      "4488/4488 [==============================] - 50s 11ms/step - loss: 0.0110 - val_loss: 0.0081\n",
      "Epoch 7/50\n",
      "4488/4488 [==============================] - 50s 11ms/step - loss: 0.0110 - val_loss: 0.0082\n",
      "Epoch 8/50\n",
      "4488/4488 [==============================] - 50s 11ms/step - loss: 0.0110 - val_loss: 0.0087\n",
      "Epoch 9/50\n",
      "4488/4488 [==============================] - 50s 11ms/step - loss: 0.0109 - val_loss: 0.0082\n",
      "Epoch 9: early stopping\n"
     ]
    },
    {
     "name": "stderr",
     "output_type": "stream",
     "text": [
      "2023-02-11 16:46:44.631224: I tensorflow/core/grappler/optimizers/custom_graph_optimizer_registry.cc:113] Plugin optimizer for device_type GPU is enabled.\n"
     ]
    },
    {
     "name": "stdout",
     "output_type": "stream",
     "text": [
      "1340/1340 [==============================] - 4s 3ms/step\n",
      "528 0 3795 3795 380 380\n",
      "529 3795 7542 3747 375 375\n",
      "530 7542 11269 3727 373 373\n",
      "531 11269 14980 3711 371 371\n",
      "532 14980 18606 3626 363 363\n",
      "533 18606 22225 3619 362 362\n",
      "534 22225 25790 3565 357 357\n",
      "535 25790 29294 3504 351 351\n",
      "536 29294 32732 3438 344 344\n",
      "537 32732 36154 3422 343 343\n",
      "538 36154 39573 3419 342 342\n",
      "539 39573 42861 3288 329 329\n",
      "Epoch 1/50\n"
     ]
    },
    {
     "name": "stderr",
     "output_type": "stream",
     "text": [
      "2023-02-11 16:46:57.203153: I tensorflow/core/grappler/optimizers/custom_graph_optimizer_registry.cc:113] Plugin optimizer for device_type GPU is enabled.\n"
     ]
    },
    {
     "name": "stdout",
     "output_type": "stream",
     "text": [
      "4419/4419 [==============================] - ETA: 0s - loss: 0.0161"
     ]
    },
    {
     "name": "stderr",
     "output_type": "stream",
     "text": [
      "2023-02-11 16:47:45.836451: I tensorflow/core/grappler/optimizers/custom_graph_optimizer_registry.cc:113] Plugin optimizer for device_type GPU is enabled.\n"
     ]
    },
    {
     "name": "stdout",
     "output_type": "stream",
     "text": [
      "4419/4419 [==============================] - 57s 12ms/step - loss: 0.0161 - val_loss: 0.0084\n",
      "Epoch 2/50\n",
      "4419/4419 [==============================] - 50s 11ms/step - loss: 0.0113 - val_loss: 0.0083\n",
      "Epoch 3/50\n",
      "4419/4419 [==============================] - 50s 11ms/step - loss: 0.0112 - val_loss: 0.0083\n",
      "Epoch 4/50\n",
      "4419/4419 [==============================] - 50s 11ms/step - loss: 0.0111 - val_loss: 0.0086\n",
      "Epoch 5/50\n",
      "4419/4419 [==============================] - 50s 11ms/step - loss: 0.0111 - val_loss: 0.0083\n",
      "Epoch 5: early stopping\n"
     ]
    },
    {
     "name": "stderr",
     "output_type": "stream",
     "text": [
      "2023-02-11 16:51:12.265590: I tensorflow/core/grappler/optimizers/custom_graph_optimizer_registry.cc:113] Plugin optimizer for device_type GPU is enabled.\n"
     ]
    },
    {
     "name": "stdout",
     "output_type": "stream",
     "text": [
      "1030/1030 [==============================] - 3s 3ms/step\n",
      "540 0 3283 3283 329 329\n",
      "541 3283 6542 3259 326 326\n",
      "542 6542 9682 3140 314 314\n",
      "543 9682 12500 2818 282 282\n",
      "544 12500 15083 2583 259 259\n",
      "545 15083 17678 2595 260 260\n",
      "546 17678 20177 2499 250 250\n",
      "547 20177 22514 2337 234 234\n",
      "548 22514 24937 2423 243 243\n",
      "549 24937 27545 2608 261 261\n",
      "550 27545 30240 2695 270 270\n",
      "551 30240 32959 2719 272 272\n",
      "Epoch 1/50\n"
     ]
    },
    {
     "name": "stderr",
     "output_type": "stream",
     "text": [
      "2023-02-11 16:51:20.925209: I tensorflow/core/grappler/optimizers/custom_graph_optimizer_registry.cc:113] Plugin optimizer for device_type GPU is enabled.\n"
     ]
    },
    {
     "name": "stdout",
     "output_type": "stream",
     "text": [
      "4335/4335 [==============================] - ETA: 0s - loss: 0.0163"
     ]
    },
    {
     "name": "stderr",
     "output_type": "stream",
     "text": [
      "2023-02-11 16:52:07.920294: I tensorflow/core/grappler/optimizers/custom_graph_optimizer_registry.cc:113] Plugin optimizer for device_type GPU is enabled.\n"
     ]
    },
    {
     "name": "stdout",
     "output_type": "stream",
     "text": [
      "4335/4335 [==============================] - 53s 12ms/step - loss: 0.0163 - val_loss: 0.0098\n",
      "Epoch 2/50\n",
      "4335/4335 [==============================] - 49s 11ms/step - loss: 0.0113 - val_loss: 0.0096\n",
      "Epoch 3/50\n",
      "4335/4335 [==============================] - 49s 11ms/step - loss: 0.0112 - val_loss: 0.0093\n",
      "Epoch 4/50\n",
      "4335/4335 [==============================] - 49s 11ms/step - loss: 0.0112 - val_loss: 0.0095\n",
      "Epoch 5/50\n",
      "4335/4335 [==============================] - 48s 11ms/step - loss: 0.0111 - val_loss: 0.0095\n",
      "Epoch 6/50\n",
      "4335/4335 [==============================] - 48s 11ms/step - loss: 0.0111 - val_loss: 0.0096\n",
      "Epoch 6: early stopping\n"
     ]
    },
    {
     "name": "stderr",
     "output_type": "stream",
     "text": [
      "2023-02-11 16:56:16.605032: I tensorflow/core/grappler/optimizers/custom_graph_optimizer_registry.cc:113] Plugin optimizer for device_type GPU is enabled.\n"
     ]
    },
    {
     "name": "stdout",
     "output_type": "stream",
     "text": [
      "1078/1078 [==============================] - 3s 3ms/step\n",
      "552 0 2790 2790 279 279\n",
      "553 2790 5635 2845 285 285\n",
      "554 5635 8519 2884 289 289\n",
      "555 8519 11330 2811 281 281\n",
      "556 11330 14129 2799 280 280\n",
      "557 14129 16979 2850 285 285\n",
      "558 16979 19827 2848 285 285\n",
      "559 19827 22706 2879 288 288\n",
      "560 22706 25670 2964 297 297\n",
      "561 25670 28696 3026 303 303\n",
      "562 28696 31633 2937 294 294\n",
      "563 31633 34488 2855 286 286\n",
      "Epoch 1/50\n"
     ]
    },
    {
     "name": "stderr",
     "output_type": "stream",
     "text": [
      "2023-02-11 16:56:25.625670: I tensorflow/core/grappler/optimizers/custom_graph_optimizer_registry.cc:113] Plugin optimizer for device_type GPU is enabled.\n"
     ]
    },
    {
     "name": "stdout",
     "output_type": "stream",
     "text": [
      "4235/4235 [==============================] - ETA: 0s - loss: 0.0166"
     ]
    },
    {
     "name": "stderr",
     "output_type": "stream",
     "text": [
      "2023-02-11 16:57:11.687632: I tensorflow/core/grappler/optimizers/custom_graph_optimizer_registry.cc:113] Plugin optimizer for device_type GPU is enabled.\n"
     ]
    },
    {
     "name": "stdout",
     "output_type": "stream",
     "text": [
      "4235/4235 [==============================] - 52s 12ms/step - loss: 0.0166 - val_loss: 0.0102\n",
      "Epoch 2/50\n",
      "4235/4235 [==============================] - 47s 11ms/step - loss: 0.0113 - val_loss: 0.0100\n",
      "Epoch 3/50\n",
      "4235/4235 [==============================] - 47s 11ms/step - loss: 0.0113 - val_loss: 0.0097\n",
      "Epoch 4/50\n",
      "4235/4235 [==============================] - 47s 11ms/step - loss: 0.0112 - val_loss: 0.0100\n",
      "Epoch 5/50\n",
      "4235/4235 [==============================] - 47s 11ms/step - loss: 0.0112 - val_loss: 0.0098\n",
      "Epoch 6/50\n",
      "4235/4235 [==============================] - 47s 11ms/step - loss: 0.0112 - val_loss: 0.0097\n",
      "Epoch 6: early stopping\n"
     ]
    },
    {
     "name": "stderr",
     "output_type": "stream",
     "text": [
      "2023-02-11 17:01:12.476792: I tensorflow/core/grappler/optimizers/custom_graph_optimizer_registry.cc:113] Plugin optimizer for device_type GPU is enabled.\n"
     ]
    },
    {
     "name": "stdout",
     "output_type": "stream",
     "text": [
      "1100/1100 [==============================] - 3s 3ms/step\n",
      "564 0 2866 2866 287 287\n",
      "565 2866 5658 2792 280 280\n",
      "566 5658 8531 2873 288 288\n",
      "567 8531 11452 2921 292 292\n",
      "568 11452 14374 2922 293 293\n",
      "569 14374 17355 2981 298 298\n",
      "570 17355 20342 2987 299 299\n",
      "571 20342 23350 3008 301 301\n",
      "572 23350 26329 2979 298 298\n",
      "573 26329 29300 2971 297 297\n",
      "574 29300 32257 2957 296 296\n",
      "575 32257 35171 2914 292 292\n",
      "Epoch 1/50\n"
     ]
    },
    {
     "name": "stderr",
     "output_type": "stream",
     "text": [
      "2023-02-11 17:01:21.680928: I tensorflow/core/grappler/optimizers/custom_graph_optimizer_registry.cc:113] Plugin optimizer for device_type GPU is enabled.\n"
     ]
    },
    {
     "name": "stdout",
     "output_type": "stream",
     "text": [
      "4099/4099 [==============================] - ETA: 0s - loss: 0.0168"
     ]
    },
    {
     "name": "stderr",
     "output_type": "stream",
     "text": [
      "2023-02-11 17:02:06.692918: I tensorflow/core/grappler/optimizers/custom_graph_optimizer_registry.cc:113] Plugin optimizer for device_type GPU is enabled.\n"
     ]
    },
    {
     "name": "stdout",
     "output_type": "stream",
     "text": [
      "4099/4099 [==============================] - 51s 12ms/step - loss: 0.0168 - val_loss: 0.0102\n",
      "Epoch 2/50\n",
      "4099/4099 [==============================] - 46s 11ms/step - loss: 0.0113 - val_loss: 0.0102\n",
      "Epoch 3/50\n",
      "4099/4099 [==============================] - 46s 11ms/step - loss: 0.0112 - val_loss: 0.0101\n",
      "Epoch 4/50\n",
      "4099/4099 [==============================] - 46s 11ms/step - loss: 0.0111 - val_loss: 0.0103\n",
      "Epoch 5/50\n",
      "4099/4099 [==============================] - 45s 11ms/step - loss: 0.0111 - val_loss: 0.0102\n",
      "Epoch 6/50\n",
      "4099/4099 [==============================] - 45s 11ms/step - loss: 0.0111 - val_loss: 0.0101\n",
      "Epoch 7/50\n",
      "4099/4099 [==============================] - 45s 11ms/step - loss: 0.0111 - val_loss: 0.0101\n",
      "Epoch 8/50\n",
      "4099/4099 [==============================] - 45s 11ms/step - loss: 0.0110 - val_loss: 0.0100\n",
      "Epoch 9/50\n",
      "4099/4099 [==============================] - 45s 11ms/step - loss: 0.0110 - val_loss: 0.0101\n",
      "Epoch 10/50\n",
      "4099/4099 [==============================] - 46s 11ms/step - loss: 0.0110 - val_loss: 0.0100\n",
      "Epoch 11/50\n",
      "4099/4099 [==============================] - 45s 11ms/step - loss: 0.0110 - val_loss: 0.0100\n",
      "Epoch 12/50\n",
      "4099/4099 [==============================] - 46s 11ms/step - loss: 0.0110 - val_loss: 0.0100\n",
      "Epoch 13/50\n",
      "4099/4099 [==============================] - 45s 11ms/step - loss: 0.0110 - val_loss: 0.0100\n",
      "Epoch 14/50\n",
      "4099/4099 [==============================] - 47s 11ms/step - loss: 0.0109 - val_loss: 0.0101\n",
      "Epoch 15/50\n",
      "4099/4099 [==============================] - 45s 11ms/step - loss: 0.0109 - val_loss: 0.0100\n",
      "Epoch 15: early stopping\n"
     ]
    },
    {
     "name": "stderr",
     "output_type": "stream",
     "text": [
      "2023-02-11 17:12:50.113086: I tensorflow/core/grappler/optimizers/custom_graph_optimizer_registry.cc:113] Plugin optimizer for device_type GPU is enabled.\n"
     ]
    },
    {
     "name": "stdout",
     "output_type": "stream",
     "text": [
      "1048/1048 [==============================] - 3s 3ms/step\n",
      "576 0 2891 2891 289 289\n",
      "577 2891 5692 2801 280 280\n",
      "578 5692 8380 2688 269 269\n",
      "579 8380 11144 2764 277 277\n",
      "580 11144 13892 2748 275 275\n",
      "581 13892 16638 2746 275 275\n",
      "582 16638 19441 2803 281 281\n",
      "583 19441 22265 2824 283 283\n",
      "584 22265 25111 2846 285 285\n",
      "585 25111 27952 2841 284 284\n",
      "586 27952 30733 2781 278 278\n",
      "587 30733 33534 2801 280 280\n",
      "Epoch 1/50\n"
     ]
    },
    {
     "name": "stderr",
     "output_type": "stream",
     "text": [
      "2023-02-11 17:12:58.971206: I tensorflow/core/grappler/optimizers/custom_graph_optimizer_registry.cc:113] Plugin optimizer for device_type GPU is enabled.\n"
     ]
    },
    {
     "name": "stdout",
     "output_type": "stream",
     "text": [
      "3940/3940 [==============================] - ETA: 0s - loss: 0.0168"
     ]
    },
    {
     "name": "stderr",
     "output_type": "stream",
     "text": [
      "2023-02-11 17:13:41.902177: I tensorflow/core/grappler/optimizers/custom_graph_optimizer_registry.cc:113] Plugin optimizer for device_type GPU is enabled.\n"
     ]
    },
    {
     "name": "stdout",
     "output_type": "stream",
     "text": [
      "3940/3940 [==============================] - 49s 12ms/step - loss: 0.0168 - val_loss: 0.0112\n",
      "Epoch 2/50\n",
      "3940/3940 [==============================] - 44s 11ms/step - loss: 0.0110 - val_loss: 0.0110\n",
      "Epoch 3/50\n",
      "3940/3940 [==============================] - 44s 11ms/step - loss: 0.0109 - val_loss: 0.0109\n",
      "Epoch 4/50\n",
      "3940/3940 [==============================] - 44s 11ms/step - loss: 0.0108 - val_loss: 0.0108\n",
      "Epoch 5/50\n",
      "3940/3940 [==============================] - 44s 11ms/step - loss: 0.0108 - val_loss: 0.0112\n",
      "Epoch 6/50\n",
      "3940/3940 [==============================] - 44s 11ms/step - loss: 0.0108 - val_loss: 0.0108\n",
      "Epoch 7/50\n",
      "3940/3940 [==============================] - 44s 11ms/step - loss: 0.0107 - val_loss: 0.0110\n",
      "Epoch 7: early stopping\n"
     ]
    },
    {
     "name": "stderr",
     "output_type": "stream",
     "text": [
      "2023-02-11 17:18:11.385595: I tensorflow/core/grappler/optimizers/custom_graph_optimizer_registry.cc:113] Plugin optimizer for device_type GPU is enabled.\n"
     ]
    },
    {
     "name": "stdout",
     "output_type": "stream",
     "text": [
      "1055/1055 [==============================] - 3s 3ms/step\n",
      "588 0 2771 2771 277 277\n",
      "589 2771 5551 2780 278 278\n",
      "590 5551 8361 2810 281 281\n",
      "591 8361 11151 2790 279 279\n",
      "592 11151 13929 2778 278 278\n",
      "593 13929 16690 2761 276 276\n",
      "594 16690 19516 2826 283 283\n",
      "595 19516 22323 2807 281 281\n",
      "596 22323 25149 2826 283 283\n",
      "597 25149 27985 2836 284 284\n",
      "598 27985 30862 2877 288 288\n",
      "599 30862 33748 2886 289 289\n",
      "Epoch 1/50\n"
     ]
    },
    {
     "name": "stderr",
     "output_type": "stream",
     "text": [
      "2023-02-11 17:18:20.191609: I tensorflow/core/grappler/optimizers/custom_graph_optimizer_registry.cc:113] Plugin optimizer for device_type GPU is enabled.\n"
     ]
    },
    {
     "name": "stdout",
     "output_type": "stream",
     "text": [
      "3752/3752 [==============================] - ETA: 0s - loss: 0.0170"
     ]
    },
    {
     "name": "stderr",
     "output_type": "stream",
     "text": [
      "2023-02-11 17:19:01.625468: I tensorflow/core/grappler/optimizers/custom_graph_optimizer_registry.cc:113] Plugin optimizer for device_type GPU is enabled.\n"
     ]
    },
    {
     "name": "stdout",
     "output_type": "stream",
     "text": [
      "3752/3752 [==============================] - 47s 12ms/step - loss: 0.0170 - val_loss: 0.0101\n",
      "Epoch 2/50\n",
      "3752/3752 [==============================] - 42s 11ms/step - loss: 0.0110 - val_loss: 0.0102\n",
      "Epoch 3/50\n",
      "3752/3752 [==============================] - 42s 11ms/step - loss: 0.0109 - val_loss: 0.0101\n",
      "Epoch 4/50\n",
      "3752/3752 [==============================] - 42s 11ms/step - loss: 0.0109 - val_loss: 0.0099\n",
      "Epoch 5/50\n",
      "3752/3752 [==============================] - 42s 11ms/step - loss: 0.0108 - val_loss: 0.0101\n",
      "Epoch 6/50\n",
      "3752/3752 [==============================] - 42s 11ms/step - loss: 0.0108 - val_loss: 0.0100\n",
      "Epoch 7/50\n",
      "3752/3752 [==============================] - 42s 11ms/step - loss: 0.0108 - val_loss: 0.0101\n",
      "Epoch 7: early stopping\n"
     ]
    },
    {
     "name": "stderr",
     "output_type": "stream",
     "text": [
      "2023-02-11 17:23:19.471742: I tensorflow/core/grappler/optimizers/custom_graph_optimizer_registry.cc:113] Plugin optimizer for device_type GPU is enabled.\n"
     ]
    },
    {
     "name": "stdout",
     "output_type": "stream",
     "text": [
      "1128/1128 [==============================] - 4s 3ms/step\n",
      "600 0 2931 2931 293 293\n",
      "601 2931 5853 2922 293 293\n",
      "602 5853 8822 2969 297 297\n",
      "603 8822 11788 2966 297 297\n",
      "604 11788 14775 2987 299 299\n",
      "605 14775 17785 3010 301 301\n",
      "606 17785 20814 3029 303 303\n",
      "607 20814 23867 3053 306 306\n",
      "608 23867 26928 3061 306 306\n",
      "609 26928 29968 3040 304 304\n",
      "610 29968 32998 3030 303 303\n",
      "611 32998 36066 3068 307 307\n",
      "Epoch 1/50\n"
     ]
    },
    {
     "name": "stderr",
     "output_type": "stream",
     "text": [
      "2023-02-11 17:23:28.941272: I tensorflow/core/grappler/optimizers/custom_graph_optimizer_registry.cc:113] Plugin optimizer for device_type GPU is enabled.\n"
     ]
    },
    {
     "name": "stdout",
     "output_type": "stream",
     "text": [
      "3546/3546 [==============================] - ETA: 0s - loss: 0.0175"
     ]
    },
    {
     "name": "stderr",
     "output_type": "stream",
     "text": [
      "2023-02-11 17:24:08.874831: I tensorflow/core/grappler/optimizers/custom_graph_optimizer_registry.cc:113] Plugin optimizer for device_type GPU is enabled.\n"
     ]
    },
    {
     "name": "stdout",
     "output_type": "stream",
     "text": [
      "3546/3546 [==============================] - 45s 12ms/step - loss: 0.0175 - val_loss: 0.0088\n",
      "Epoch 2/50\n",
      "3546/3546 [==============================] - 40s 11ms/step - loss: 0.0109 - val_loss: 0.0085\n",
      "Epoch 3/50\n",
      "3546/3546 [==============================] - 40s 11ms/step - loss: 0.0108 - val_loss: 0.0085\n",
      "Epoch 4/50\n",
      "3546/3546 [==============================] - 40s 11ms/step - loss: 0.0108 - val_loss: 0.0085\n",
      "Epoch 5/50\n",
      "3546/3546 [==============================] - 40s 11ms/step - loss: 0.0107 - val_loss: 0.0084\n",
      "Epoch 6/50\n",
      "3546/3546 [==============================] - 40s 11ms/step - loss: 0.0107 - val_loss: 0.0083\n",
      "Epoch 7/50\n",
      "3546/3546 [==============================] - 40s 11ms/step - loss: 0.0107 - val_loss: 0.0083\n",
      "Epoch 8/50\n",
      "3546/3546 [==============================] - 40s 11ms/step - loss: 0.0106 - val_loss: 0.0084\n",
      "Epoch 9/50\n",
      "3546/3546 [==============================] - 40s 11ms/step - loss: 0.0106 - val_loss: 0.0086\n",
      "Epoch 9: early stopping\n"
     ]
    },
    {
     "name": "stderr",
     "output_type": "stream",
     "text": [
      "2023-02-11 17:29:36.858140: I tensorflow/core/grappler/optimizers/custom_graph_optimizer_registry.cc:113] Plugin optimizer for device_type GPU is enabled.\n"
     ]
    },
    {
     "name": "stdout",
     "output_type": "stream",
     "text": [
      "1144/1144 [==============================] - 5s 2ms/step\n",
      "612 0 3057 3057 306 306\n",
      "613 3057 6135 3078 308 308\n",
      "614 6135 9176 3041 304 304\n",
      "615 9176 12218 3042 305 305\n",
      "616 12218 15265 3047 305 305\n",
      "617 15265 18322 3057 306 306\n",
      "618 18322 21358 3036 304 304\n",
      "619 21358 24406 3048 305 305\n",
      "620 24406 27440 3034 304 304\n",
      "621 27440 30483 3043 305 305\n",
      "622 30483 33531 3048 305 305\n",
      "623 33531 36584 3053 306 306\n",
      "Epoch 1/50\n"
     ]
    },
    {
     "name": "stderr",
     "output_type": "stream",
     "text": [
      "2023-02-11 17:29:46.280937: I tensorflow/core/grappler/optimizers/custom_graph_optimizer_registry.cc:113] Plugin optimizer for device_type GPU is enabled.\n"
     ]
    },
    {
     "name": "stdout",
     "output_type": "stream",
     "text": [
      "3354/3354 [==============================] - ETA: 0s - loss: 0.0168"
     ]
    },
    {
     "name": "stderr",
     "output_type": "stream",
     "text": [
      "2023-02-11 17:30:24.771010: I tensorflow/core/grappler/optimizers/custom_graph_optimizer_registry.cc:113] Plugin optimizer for device_type GPU is enabled.\n"
     ]
    },
    {
     "name": "stdout",
     "output_type": "stream",
     "text": [
      "3354/3354 [==============================] - 44s 13ms/step - loss: 0.0168 - val_loss: 0.0084\n",
      "Epoch 2/50\n",
      "3354/3354 [==============================] - 39s 11ms/step - loss: 0.0103 - val_loss: 0.0084\n",
      "Epoch 3/50\n",
      "3354/3354 [==============================] - 39s 11ms/step - loss: 0.0102 - val_loss: 0.0080\n",
      "Epoch 4/50\n",
      "3354/3354 [==============================] - 39s 12ms/step - loss: 0.0101 - val_loss: 0.0081\n",
      "Epoch 5/50\n",
      "3354/3354 [==============================] - 38s 11ms/step - loss: 0.0101 - val_loss: 0.0079\n",
      "Epoch 6/50\n",
      "3354/3354 [==============================] - 38s 11ms/step - loss: 0.0100 - val_loss: 0.0079\n",
      "Epoch 7/50\n",
      "3354/3354 [==============================] - 38s 11ms/step - loss: 0.0100 - val_loss: 0.0080\n",
      "Epoch 8/50\n",
      "3354/3354 [==============================] - 38s 11ms/step - loss: 0.0100 - val_loss: 0.0081\n",
      "Epoch 8: early stopping\n"
     ]
    },
    {
     "name": "stderr",
     "output_type": "stream",
     "text": [
      "2023-02-11 17:34:58.821109: I tensorflow/core/grappler/optimizers/custom_graph_optimizer_registry.cc:113] Plugin optimizer for device_type GPU is enabled.\n"
     ]
    },
    {
     "name": "stdout",
     "output_type": "stream",
     "text": [
      "1093/1093 [==============================] - 3s 3ms/step\n",
      "624 0 3023 3023 303 303\n",
      "625 3023 6036 3013 302 302\n",
      "626 6036 8984 2948 295 295\n",
      "627 8984 11950 2966 297 297\n",
      "628 11950 14920 2970 297 297\n",
      "629 14920 17854 2934 294 294\n",
      "630 17854 20687 2833 284 284\n",
      "631 20687 23505 2818 282 282\n",
      "632 23505 26364 2859 286 286\n",
      "633 26364 29233 2869 287 287\n",
      "634 29233 32091 2858 286 286\n",
      "635 32091 34957 2866 287 287\n",
      "Epoch 1/50\n"
     ]
    },
    {
     "name": "stderr",
     "output_type": "stream",
     "text": [
      "2023-02-11 17:35:07.771908: I tensorflow/core/grappler/optimizers/custom_graph_optimizer_registry.cc:113] Plugin optimizer for device_type GPU is enabled.\n"
     ]
    },
    {
     "name": "stdout",
     "output_type": "stream",
     "text": [
      "3233/3233 [==============================] - ETA: 0s - loss: 0.0166"
     ]
    },
    {
     "name": "stderr",
     "output_type": "stream",
     "text": [
      "2023-02-11 17:35:44.847839: I tensorflow/core/grappler/optimizers/custom_graph_optimizer_registry.cc:113] Plugin optimizer for device_type GPU is enabled.\n"
     ]
    },
    {
     "name": "stdout",
     "output_type": "stream",
     "text": [
      "3233/3233 [==============================] - 43s 12ms/step - loss: 0.0166 - val_loss: 0.0089\n",
      "Epoch 2/50\n",
      "3233/3233 [==============================] - 37s 11ms/step - loss: 0.0096 - val_loss: 0.0084\n",
      "Epoch 3/50\n",
      "3233/3233 [==============================] - 37s 11ms/step - loss: 0.0096 - val_loss: 0.0086\n",
      "Epoch 4/50\n",
      "3233/3233 [==============================] - 37s 11ms/step - loss: 0.0095 - val_loss: 0.0082\n",
      "Epoch 5/50\n",
      "3233/3233 [==============================] - 37s 11ms/step - loss: 0.0095 - val_loss: 0.0087\n",
      "Epoch 6/50\n",
      "3233/3233 [==============================] - 37s 11ms/step - loss: 0.0094 - val_loss: 0.0083\n",
      "Epoch 7/50\n",
      "3233/3233 [==============================] - 37s 11ms/step - loss: 0.0094 - val_loss: 0.0083\n",
      "Epoch 7: early stopping\n"
     ]
    },
    {
     "name": "stderr",
     "output_type": "stream",
     "text": [
      "2023-02-11 17:39:29.792196: I tensorflow/core/grappler/optimizers/custom_graph_optimizer_registry.cc:113] Plugin optimizer for device_type GPU is enabled.\n"
     ]
    },
    {
     "name": "stdout",
     "output_type": "stream",
     "text": [
      "1076/1076 [==============================] - 3s 3ms/step\n",
      "636 0 2887 2887 289 289\n",
      "637 2887 5775 2888 289 289\n",
      "638 5775 8679 2904 291 291\n",
      "639 8679 11544 2865 287 287\n",
      "640 11544 14422 2878 288 288\n",
      "641 14422 17292 2870 287 287\n",
      "642 17292 20159 2867 287 287\n",
      "643 20159 23018 2859 286 286\n",
      "644 23018 25872 2854 286 286\n",
      "645 25872 28723 2851 285 285\n",
      "646 28723 31556 2833 284 284\n",
      "647 31556 34414 2858 286 286\n",
      "Epoch 1/50\n"
     ]
    },
    {
     "name": "stderr",
     "output_type": "stream",
     "text": [
      "2023-02-11 17:39:38.572080: I tensorflow/core/grappler/optimizers/custom_graph_optimizer_registry.cc:113] Plugin optimizer for device_type GPU is enabled.\n"
     ]
    },
    {
     "name": "stdout",
     "output_type": "stream",
     "text": [
      "3145/3145 [==============================] - ETA: 0s - loss: 0.0171"
     ]
    },
    {
     "name": "stderr",
     "output_type": "stream",
     "text": [
      "2023-02-11 17:40:14.372457: I tensorflow/core/grappler/optimizers/custom_graph_optimizer_registry.cc:113] Plugin optimizer for device_type GPU is enabled.\n"
     ]
    },
    {
     "name": "stdout",
     "output_type": "stream",
     "text": [
      "3145/3145 [==============================] - 41s 13ms/step - loss: 0.0171 - val_loss: 0.0083\n",
      "Epoch 2/50\n",
      "3145/3145 [==============================] - 36s 11ms/step - loss: 0.0095 - val_loss: 0.0081\n",
      "Epoch 3/50\n",
      "3145/3145 [==============================] - 36s 11ms/step - loss: 0.0094 - val_loss: 0.0078\n",
      "Epoch 4/50\n",
      "3145/3145 [==============================] - 36s 11ms/step - loss: 0.0093 - val_loss: 0.0079\n",
      "Epoch 5/50\n",
      "3145/3145 [==============================] - 36s 11ms/step - loss: 0.0093 - val_loss: 0.0078\n",
      "Epoch 6/50\n",
      "3145/3145 [==============================] - 36s 11ms/step - loss: 0.0093 - val_loss: 0.0079\n",
      "Epoch 7/50\n",
      "3145/3145 [==============================] - 36s 11ms/step - loss: 0.0093 - val_loss: 0.0079\n",
      "Epoch 8/50\n",
      "3145/3145 [==============================] - 36s 11ms/step - loss: 0.0092 - val_loss: 0.0078\n",
      "Epoch 9/50\n",
      "3145/3145 [==============================] - 36s 11ms/step - loss: 0.0092 - val_loss: 0.0078\n",
      "Epoch 10/50\n",
      "3145/3145 [==============================] - 36s 11ms/step - loss: 0.0092 - val_loss: 0.0079\n",
      "Epoch 11/50\n",
      "3145/3145 [==============================] - 36s 11ms/step - loss: 0.0092 - val_loss: 0.0081\n",
      "Epoch 11: early stopping\n"
     ]
    },
    {
     "name": "stderr",
     "output_type": "stream",
     "text": [
      "2023-02-11 17:46:17.341937: I tensorflow/core/grappler/optimizers/custom_graph_optimizer_registry.cc:113] Plugin optimizer for device_type GPU is enabled.\n"
     ]
    },
    {
     "name": "stdout",
     "output_type": "stream",
     "text": [
      "1068/1068 [==============================] - 4s 3ms/step\n",
      "648 0 2836 2836 284 284\n",
      "649 2836 5660 2824 283 283\n",
      "650 5660 8494 2834 284 284\n",
      "651 8494 11308 2814 282 282\n",
      "652 11308 14154 2846 285 285\n",
      "653 14154 16998 2844 285 285\n",
      "654 16998 19860 2862 287 287\n",
      "655 19860 22704 2844 285 285\n",
      "656 22704 25535 2831 283 283\n",
      "657 25535 28383 2848 285 285\n",
      "658 28383 31270 2887 289 289\n",
      "659 31270 34171 2901 290 290\n",
      "Epoch 1/50\n"
     ]
    },
    {
     "name": "stderr",
     "output_type": "stream",
     "text": [
      "2023-02-11 17:46:26.351788: I tensorflow/core/grappler/optimizers/custom_graph_optimizer_registry.cc:113] Plugin optimizer for device_type GPU is enabled.\n"
     ]
    },
    {
     "name": "stdout",
     "output_type": "stream",
     "text": [
      "3096/3096 [==============================] - ETA: 0s - loss: 0.0167"
     ]
    },
    {
     "name": "stderr",
     "output_type": "stream",
     "text": [
      "2023-02-11 17:47:03.061647: I tensorflow/core/grappler/optimizers/custom_graph_optimizer_registry.cc:113] Plugin optimizer for device_type GPU is enabled.\n"
     ]
    },
    {
     "name": "stdout",
     "output_type": "stream",
     "text": [
      "3096/3096 [==============================] - 42s 13ms/step - loss: 0.0167 - val_loss: 0.0082\n",
      "Epoch 2/50\n",
      "3096/3096 [==============================] - 36s 11ms/step - loss: 0.0091 - val_loss: 0.0080\n",
      "Epoch 3/50\n",
      "3096/3096 [==============================] - 36s 11ms/step - loss: 0.0090 - val_loss: 0.0079\n",
      "Epoch 4/50\n",
      "3096/3096 [==============================] - 35s 11ms/step - loss: 0.0090 - val_loss: 0.0081\n",
      "Epoch 5/50\n",
      "3096/3096 [==============================] - 36s 12ms/step - loss: 0.0090 - val_loss: 0.0081\n",
      "Epoch 6/50\n",
      "3096/3096 [==============================] - 36s 12ms/step - loss: 0.0089 - val_loss: 0.0079\n",
      "Epoch 6: early stopping\n"
     ]
    },
    {
     "name": "stderr",
     "output_type": "stream",
     "text": [
      "2023-02-11 17:50:06.462537: I tensorflow/core/grappler/optimizers/custom_graph_optimizer_registry.cc:113] Plugin optimizer for device_type GPU is enabled.\n"
     ]
    },
    {
     "name": "stdout",
     "output_type": "stream",
     "text": [
      "1060/1060 [==============================] - 3s 3ms/step\n",
      "660 0 2896 2896 290 290\n",
      "661 2896 5806 2910 291 291\n",
      "662 5806 8723 2917 292 292\n",
      "663 8723 11576 2853 286 286\n",
      "664 11576 14391 2815 282 282\n",
      "665 14391 17107 2716 272 272\n",
      "666 17107 19889 2782 279 279\n",
      "667 19889 22693 2804 281 281\n",
      "668 22693 25502 2809 281 281\n",
      "669 25502 28320 2818 282 282\n",
      "670 28320 31087 2767 277 277\n",
      "671 31087 33892 2805 281 281\n",
      "Epoch 1/50\n"
     ]
    },
    {
     "name": "stderr",
     "output_type": "stream",
     "text": [
      "2023-02-11 17:50:15.063921: I tensorflow/core/grappler/optimizers/custom_graph_optimizer_registry.cc:113] Plugin optimizer for device_type GPU is enabled.\n"
     ]
    },
    {
     "name": "stdout",
     "output_type": "stream",
     "text": [
      "3020/3020 [==============================] - ETA: 0s - loss: 0.0164"
     ]
    },
    {
     "name": "stderr",
     "output_type": "stream",
     "text": [
      "2023-02-11 17:50:50.884037: I tensorflow/core/grappler/optimizers/custom_graph_optimizer_registry.cc:113] Plugin optimizer for device_type GPU is enabled.\n"
     ]
    },
    {
     "name": "stdout",
     "output_type": "stream",
     "text": [
      "3020/3020 [==============================] - 41s 13ms/step - loss: 0.0164 - val_loss: 0.0089\n",
      "Epoch 2/50\n",
      "3020/3020 [==============================] - 35s 12ms/step - loss: 0.0091 - val_loss: 0.0087\n",
      "Epoch 3/50\n",
      "3020/3020 [==============================] - 35s 12ms/step - loss: 0.0090 - val_loss: 0.0088\n",
      "Epoch 4/50\n",
      "3020/3020 [==============================] - 35s 12ms/step - loss: 0.0089 - val_loss: 0.0095\n",
      "Epoch 5/50\n",
      "3020/3020 [==============================] - 35s 12ms/step - loss: 0.0089 - val_loss: 0.0085\n",
      "Epoch 6/50\n",
      "3020/3020 [==============================] - 35s 12ms/step - loss: 0.0089 - val_loss: 0.0085\n",
      "Epoch 7/50\n",
      "3020/3020 [==============================] - 35s 12ms/step - loss: 0.0089 - val_loss: 0.0086\n",
      "Epoch 8/50\n",
      "3020/3020 [==============================] - 35s 12ms/step - loss: 0.0088 - val_loss: 0.0088\n",
      "Epoch 9/50\n",
      "3020/3020 [==============================] - 35s 11ms/step - loss: 0.0088 - val_loss: 0.0086\n",
      "Epoch 9: early stopping\n"
     ]
    },
    {
     "name": "stderr",
     "output_type": "stream",
     "text": [
      "2023-02-11 17:55:35.924949: I tensorflow/core/grappler/optimizers/custom_graph_optimizer_registry.cc:113] Plugin optimizer for device_type GPU is enabled.\n"
     ]
    },
    {
     "name": "stdout",
     "output_type": "stream",
     "text": [
      "519/519 [==============================] - 2s 3ms/step\n",
      "672 0 2793 2793 280 280\n",
      "673 2793 5543 2750 275 275\n",
      "674 5543 8302 2759 276 276\n",
      "675 8302 11059 2757 276 276\n",
      "676 11059 13805 2746 275 275\n",
      "677 13805 16578 2773 278 278\n"
     ]
    }
   ],
   "source": [
    "for retrain_idx in range(42):\n",
    "    X = Z_eff.iloc[train_start[retrain_idx]:train_end[retrain_idx],:]\n",
    "    X_idx = X.apply(pd.Series.nunique) != 1\n",
    "    X = X.loc[:,X_idx]\n",
    "    X_val = Z_eff.iloc[val_start[retrain_idx]:val_end[retrain_idx],:]\n",
    "    X_test = Z_eff.iloc[test_start[retrain_idx]:test_end[retrain_idx],:]\n",
    "    X_val = X_val.loc[:,X_idx]\n",
    "    X_test = X_test.loc[:,X_idx]\n",
    "\n",
    "    y = R_eff.iloc[train_start[retrain_idx]:train_end[retrain_idx],:]\n",
    "    y_val = R_eff.iloc[val_start[retrain_idx]:val_end[retrain_idx],:]\n",
    "    y_test = R_eff.iloc[test_start[retrain_idx]:test_end[retrain_idx],:]\n",
    "    yorg = R_org_eff.iloc[train_start[retrain_idx]:train_end[retrain_idx],:]\n",
    "    yorg_val = R_org_eff.iloc[val_start[retrain_idx]:val_end[retrain_idx],:]\n",
    "    yorg_test = R_org_eff.iloc[test_start[retrain_idx]:test_end[retrain_idx],:]\n",
    "\n",
    "    model = Sequential()\n",
    "    model.add(LayerNormalization())\n",
    "    model.add(Dense(128,activation=tf.keras.layers.LeakyReLU(alpha=0.3)))\n",
    "    model.add(BatchNormalization())\n",
    "    model.add(Dense(64,activation=tf.keras.layers.LeakyReLU(alpha=0.3)))\n",
    "    model.add(BatchNormalization())\n",
    "    model.add(Dense(32,activation=tf.keras.layers.LeakyReLU(alpha=0.3)))\n",
    "    model.add(BatchNormalization())\n",
    "    model.add(Dense(1))\n",
    "    model.compile(optimizer='adam',loss='mse')\n",
    "\n",
    "    early_stop = EarlyStopping(monitor='val_loss', mode='min', verbose=1, patience=3)\n",
    "    history = model.fit(x=X, y=y, validation_data=(X_val,y_val), batch_size=128, epochs=50, verbose=1, callbacks=[early_stop])\n",
    "\n",
    "    preds = model.predict(X_test).flatten()\n",
    "\n",
    "    y_org_test = yorg_test[0].to_list()\n",
    "    R_pred.iloc[test_start[retrain_idx]:test_end[retrain_idx],:] = pd.DataFrame(preds)\n",
    "\n",
    "    for t in range(t_test_start[retrain_idx], t_test_end[retrain_idx]):\n",
    "        month_start = group_ind.iloc[t][0] - group_ind.iloc[t_test_start[retrain_idx]][0]\n",
    "        month_end = group_ind.iloc[t+1][0] - group_ind.iloc[t_test_start[retrain_idx]][0]\n",
    "        preds_month = preds[month_start:month_end]\n",
    "        yorg_month = y_org_test[month_start:month_end]\n",
    "        list_buy = [i for i, val in enumerate(preds_month) if val > np.quantile(preds_month,.9)]\n",
    "        list_sell = [i for i, val in enumerate(preds_month) if val < np.quantile(preds_month,.1)]\n",
    "        print(t,month_start,month_end,len(preds_month),len(list_buy),len(list_sell))\n",
    "        portf_ret_nn_test.append(np.mean([yorg_month[i] for i in list_buy]) - np.mean([yorg_month[i] for i in list_sell]))\n",
    "\n",
    "    loss.append(min(history.history['val_loss']))\n",
    "    model_list.append(model)"
   ]
  },
  {
   "cell_type": "code",
   "execution_count": 15,
   "metadata": {},
   "outputs": [
    {
     "data": {
      "text/plain": "5.100544954212172"
     },
     "execution_count": 15,
     "metadata": {},
     "output_type": "execute_result"
    }
   ],
   "source": [
    "np.nanmean(portf_ret_nn_test)/np.nanstd(portf_ret_nn_test)*np.sqrt(12)"
   ]
  },
  {
   "cell_type": "code",
   "execution_count": null,
   "outputs": [],
   "source": [],
   "metadata": {
    "collapsed": false
   }
  }
 ],
 "metadata": {
  "colab": {
   "collapsed_sections": [],
   "name": "Finance.ipynb",
   "provenance": []
  },
  "kernelspec": {
   "display_name": "Python 3",
   "language": "python",
   "name": "python3"
  },
  "language_info": {
   "codemirror_mode": {
    "name": "ipython",
    "version": 3
   },
   "file_extension": ".py",
   "mimetype": "text/x-python",
   "name": "python",
   "nbconvert_exporter": "python",
   "pygments_lexer": "ipython3",
   "version": "3.9.5"
  }
 },
 "nbformat": 4,
 "nbformat_minor": 4
}
